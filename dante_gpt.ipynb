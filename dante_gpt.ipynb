{
  "cells": [
    {
      "cell_type": "markdown",
      "metadata": {
        "id": "8Z5ZMZrHbvTH"
      },
      "source": [
        "## Data loading and tokenization"
      ]
    },
    {
      "cell_type": "code",
      "execution_count": null,
      "metadata": {
        "colab": {
          "base_uri": "https://localhost:8080/"
        },
        "id": "wXyoc5dtwdQM",
        "outputId": "36d74ac5-df3d-4e0d-e065-f45e3af9de53"
      },
      "outputs": [],
      "source": [
        "# For any notebook\n",
        "!git clone https://github.com/nMaax/danteGPT\n",
        "!pip install -r danteGPT/requirements.txt\n",
        "\n",
        "import os\n",
        "os.chdir('danteGPT')"
      ]
    },
    {
      "cell_type": "code",
      "execution_count": null,
      "metadata": {
        "id": "6B-HzTlgWKQf"
      },
      "outputs": [],
      "source": [
        "import yaml\n",
        "\n",
        "# Load the configuration from the YAML file\n",
        "with open('config.yaml', 'r') as file:\n",
        "    config = yaml.safe_load(file)\n",
        "\n",
        "tokenizer_training_size = config['model']['tokenizer_training_size']\n",
        "train_test_ratio = config['model']['train_test_ratio']\n",
        "vocab_size = config['model']['vocab_size']\n",
        "block_size = config['model']['block_size']\n",
        "batch_size = config['model']['batch_size']\n",
        "d_model = config['model']['d_model']\n",
        "num_heads = config['model']['num_heads']\n",
        "num_transformer_blocks = config['model']['num_transformer_blocks']\n",
        "ff_expansion_factor = config['model']['ff_expansion_factor']\n",
        "dropout_rate = config['model']['dropout_rate']\n",
        "device = config['model']['device']"
      ]
    },
    {
      "cell_type": "code",
      "execution_count": 3,
      "metadata": {
        "id": "8F6ckNymEr2M"
      },
      "outputs": [],
      "source": [
        "# Read the file\n",
        "with open('divina_commedia.txt', 'r', encoding='utf-8') as f:\n",
        "  text = f.read()"
      ]
    },
    {
      "cell_type": "code",
      "execution_count": 4,
      "metadata": {
        "colab": {
          "base_uri": "https://localhost:8080/"
        },
        "id": "l7myIeTDEtPh",
        "outputId": "eb697635-1da0-46b6-9dbf-6b690981a087"
      },
      "outputs": [
        {
          "name": "stdout",
          "output_type": "stream",
          "text": [
            "INFERNO CANTO 1\n",
            "Nel mezzo del cammin di nostra vita\n",
            "mi ritrovai per una selva oscura\n",
            "ché la diritta via era smarrita.\n",
            "Ahi quanto a dir qual era è cosa dura\n",
            "esta selva selvaggia e aspra e forte\n",
            "che nel pensier rinova la paura!\n",
            "Tant' è amara che poco è più morte;\n",
            "ma per trattar del ben ch'i' vi trovai,\n",
            "dirò de l'altre cose ch'i' v'ho scorte.\n",
            "Io non so ben ridir com' i' v'intrai,\n",
            "tant' era pien di sonno a quel punto\n",
            "che la verace via abbandonai.\n",
            "Ma poi ch'i' fui al piè d'un colle giunto,\n",
            "là dove terminava quel\n"
          ]
        }
      ],
      "source": [
        "print(text[:512])"
      ]
    },
    {
      "cell_type": "code",
      "execution_count": 5,
      "metadata": {
        "id": "47lyIS8yEufZ"
      },
      "outputs": [],
      "source": [
        "from tokenizer import RegexTokenizer\n",
        "\n",
        "tokenizer_training_size = int(len(text) * tokenizer_training_size)\n",
        "\n",
        "Dantokenizer = RegexTokenizer()\n",
        "Dantokenizer.train(text[:tokenizer_training_size], vocab_size=vocab_size)"
      ]
    },
    {
      "cell_type": "code",
      "execution_count": 6,
      "metadata": {
        "id": "4pLm1LsQExCs"
      },
      "outputs": [],
      "source": [
        "encode = Dantokenizer.encode\n",
        "decode = Dantokenizer.decode"
      ]
    },
    {
      "cell_type": "code",
      "execution_count": 7,
      "metadata": {
        "colab": {
          "base_uri": "https://localhost:8080/"
        },
        "id": "Wev2GbokE0dZ",
        "outputId": "99e2566d-69d5-4541-cc50-9e5f7b9bfb5a"
      },
      "outputs": [
        {
          "name": "stdout",
          "output_type": "stream",
          "text": [
            "Nel mezzo del cammin di nostra vita, mi ritrovai in una selva oscura.\n"
          ]
        }
      ],
      "source": [
        "print(decode(encode('Nel mezzo del cammin di nostra vita, mi ritrovai in una selva oscura.')))"
      ]
    },
    {
      "cell_type": "code",
      "execution_count": 8,
      "metadata": {
        "id": "gJV9ctZzE3Us"
      },
      "outputs": [],
      "source": [
        "import torch\n",
        "\n",
        "data = torch.tensor(encode(text), dtype=torch.long)\n",
        "n = int(train_test_ratio*len(data))\n",
        "train_data = data[:n]\n",
        "test_data = data[n:]"
      ]
    },
    {
      "cell_type": "code",
      "execution_count": 9,
      "metadata": {
        "colab": {
          "base_uri": "https://localhost:8080/"
        },
        "id": "ZIaguu0jFiFp",
        "outputId": "8be54e11-2710-49c2-de4b-7b41ca356c91"
      },
      "outputs": [
        {
          "name": "stdout",
          "output_type": "stream",
          "text": [
            "GPU is available. Training on: cuda\n"
          ]
        }
      ],
      "source": [
        "# Check for GPU availability and move model and data\n",
        "if device == \"cpu\":\n",
        "    device = torch.device(\"cpu\")\n",
        "    print(\"Training on CPU.\")\n",
        "elif device == \"cuda\" and torch.cuda.is_available():\n",
        "    device = torch.device(\"cuda\")\n",
        "    print(\"GPU is available. Training on:\", device)\n",
        "else:\n",
        "    device = torch.device(\"cpu\")\n",
        "    print(\"GPU not available. Training on CPU.\")"
      ]
    },
    {
      "cell_type": "markdown",
      "metadata": {
        "id": "PgcsmogJFjo8"
      },
      "source": [
        "## Baseline, Transformer-free model"
      ]
    },
    {
      "cell_type": "code",
      "execution_count": 10,
      "metadata": {
        "id": "wK_ZbzlrFo0A"
      },
      "outputs": [],
      "source": [
        "from baseline import DanteBaseline\n",
        "naiveDante = DanteBaseline(vocab_size=vocab_size, embedding_dim=d_model, context_window=block_size).to(device)"
      ]
    },
    {
      "cell_type": "code",
      "execution_count": 11,
      "metadata": {
        "id": "VK983hjOFquI"
      },
      "outputs": [],
      "source": [
        "def novel_generate(model, size=500, device=None):\n",
        "  if device is None:\n",
        "    device = torch.device(\"cuda\" if torch.cuda.is_available() else \"cpu\")  # Use CUDA if available\n",
        "  return decode(model.generate(context=torch.zeros((1, 1), dtype=torch.long, device=device), max_new_tokens=size)[0].tolist())"
      ]
    },
    {
      "cell_type": "code",
      "execution_count": 12,
      "metadata": {
        "colab": {
          "base_uri": "https://localhost:8080/"
        },
        "id": "fHJ_VgKBFxR7",
        "outputId": "0e12bf43-2d93-4554-ec9d-b943b876120a"
      },
      "outputs": [
        {
          "name": "stdout",
          "output_type": "stream",
          "text": [
            "\u0000 elli� mar ché loro\u001dante mio� ro sosH dir persbbiagni�troià@�osciaINFER�in tempochio dove� al�an piè� pri~ore� st duehi pennonccominbbe parole��9ù somQuando(\u0002 avea'hanzi'unaQuiinse� iine fatto fosse�)ondobb\u0004 bolvol�raim altri om� CANT no io pebbe dri� cu guar gridarscchia ta com sottouta�chi\t� tfe esser questope tempgna� poionte stra è che gu��popp.ettoaragn!\n",
            "quandodiMaestro sa linpoi\u0000�onmon quelenza primada�\u0000 lorodre discma sisso tre'ogne[ por muvea/gh5olessa G'an lui tutto� parlar fortequ guar:onte A sta sia� tro�(priuol sangue�ere vidiettono comin� era'ha��ccadò� unspu chi� però altri parlar viso'era car parole fosse\"omeernognoL fiam nafor tutto� F'Acmmul por bugoINY�}Poi fal sp naQui vederIocomecor� ani�8 ra'ionéppa dalere\u001b ancor siէ tosp  proءiè'io al��erno! st�del>>.\n",
            "vien li dison lui doveù�taltoaiosa'avea�éerotter'una pièsto no�ch loco sol or> Tani genti,\n",
            "'acqua ciel quando puque�annoéro suo ci cu però duD�estiìdo��\u0005Zmeai par ta�sto parti dimINFERNore�ssebi udi'altra�\u0005mi né� grazio sp�\u0014guever compa re faccia so orea�.\n",
            " lui M quanto Cei prima par re'undò questo,\n",
            "siesfa dim\n",
            "é compa�gn pen� sco�8si sua mono Vppoin�+ ida die guar foco ar'io giran� tempo io Efficiò mezzo��dò vaMacci� dis altropar cor fe�ssai lo\u0016eme C braom fa le seconziau u� tro gu� parlar faccia� selva�ini selva'aner� mondo4INFER sìnedi%ti'acqua>> sule faL assai�'un tua�Vssa>>,\n",
            "��� tuoNoi compaareva re� dirppa quel dissi\u000e�ùell men| tal��Y su5 dirososp\n"
          ]
        }
      ],
      "source": [
        "with torch.no_grad():\n",
        "  print(novel_generate(model=naiveDante, device=device))"
      ]
    },
    {
      "cell_type": "code",
      "execution_count": 13,
      "metadata": {
        "colab": {
          "base_uri": "https://localhost:8080/"
        },
        "id": "5qcDoP2kF0Qk",
        "outputId": "a1994011-bd57-4176-dfc9-34e6eb407a8b"
      },
      "outputs": [
        {
          "name": "stdout",
          "output_type": "stream",
          "text": [
            "Epoch 0: Train Loss = 6.9336, Test Loss = 6.8837\n",
            "Epoch 1000: Train Loss = 4.2709, Test Loss = 4.4153\n",
            "Epoch 2000: Train Loss = 4.1427, Test Loss = 4.2773\n",
            "Epoch 3000: Train Loss = 4.1242, Test Loss = 4.3226\n",
            "Epoch 4000: Train Loss = 4.0188, Test Loss = 4.2840\n"
          ]
        }
      ],
      "source": [
        "from utils import train_model, plot_loss_functions\n",
        "\n",
        "optimizer = torch.optim.AdamW(naiveDante.parameters(), lr=1e-3)\n",
        "epochs = 5 * 1000\n",
        "\n",
        "train_loss_values, test_loss_values = train_model(model=naiveDante, train_data=train_data, test_data=test_data, optimizer=optimizer, epochs=epochs, block_size=64, batch_size=32, device=device)"
      ]
    },
    {
      "cell_type": "code",
      "execution_count": 14,
      "metadata": {
        "colab": {
          "base_uri": "https://localhost:8080/",
          "height": 487
        },
        "id": "E-mKeAyqwGah",
        "outputId": "cc15c736-bebf-4f49-e879-88418b80f5a7"
      },
      "outputs": [
        {
          "data": {
            "image/png": "[encoded data removed]",
            "text/plain": [
              "<Figure size 1000x500 with 1 Axes>"
            ]
          },
          "metadata": {},
          "output_type": "display_data"
        }
      ],
      "source": [
        "plot_loss_functions(train_loss_values, test_loss_values, epochs=epochs)"
      ]
    },
    {
      "cell_type": "code",
      "execution_count": 15,
      "metadata": {
        "colab": {
          "base_uri": "https://localhost:8080/"
        },
        "id": "H4f_DPg4F2GW",
        "outputId": "9a5b540c-e414-4ae3-957b-daf5fe3e8947"
      },
      "outputs": [
        {
          "name": "stdout",
          "output_type": "stream",
          "text": [
            "\u0000senti,\n",
            "per ch'elli a me: <<O frongina>>.\n",
            "S'esserghiete ne lo sp' fui par sì fue\n",
            "lta var l'imbello;\n",
            "devordel gran bracciavamlllibecchi\n",
            "din de l'ovra, la fu consi\n",
            "e riso e chi ness maggiar la biamenigento che da miefiglior precoziori e tanto a cui vie,\n",
            "de nel petto,\n",
            "so si sorsi, più la graimico\n",
            "a;\n",
            "èl ducico contin corda.\n",
            "Questi ha sì vir divala che la discor che di pastol suo primoa non avangor di fort'una der non ha che la portaavino;\n",
            "e ai;\n",
            "e cono parvedinettima uno.\n",
            " paura\n",
            "'si le notte\n",
            " qua, e per li lia inar del brimonor si ral maì' el a la balliel si sensciossa la dieniada.\n",
            "d arta vider vista del dolcitoeriamaràtoolo l'a la lon sieno areranoano iintoll cieloando mio suoiolio frindieno una furia mie siera amorregiata;\n",
            "io e la coiatolielirienaria Tiaer ne coario sì vò così se'eruaendeuar deiauoraàusene maesiaò quel daòl cer seella;\n",
            "e Mariama che na'eruinauiaote lìatorito poco me sovra 'lio, chia,\n",
            "ehiata\n",
            "o che siene elliora moro a questa vereriaoren si comerello\n",
            "eaese a questa diseròltouliamiroia che Pa lauoendeaiato.\n",
            "ia, eoor volerta che lie che nel mioto si più chia, io:,anti venìodestierà dà 'ltiertoariaa ch'auo che sua pelo che\n"
          ]
        }
      ],
      "source": [
        "with torch.no_grad():\n",
        "  print(novel_generate(model=naiveDante, size=500, device=device))"
      ]
    },
    {
      "cell_type": "markdown",
      "metadata": {
        "id": "OvkngGCfF44s"
      },
      "source": [
        "## Transformer based (self attention) implementation"
      ]
    },
    {
      "cell_type": "code",
      "execution_count": 16,
      "metadata": {
        "id": "B_p3QDuTIHe6"
      },
      "outputs": [],
      "source": [
        "from dante import DanteTransformer"
      ]
    },
    {
      "cell_type": "code",
      "execution_count": null,
      "metadata": {
        "id": "Me0aOCVhF5OW"
      },
      "outputs": [],
      "source": [
        "Dante = DanteTransformer(vocab_size=vocab_size, block_size=block_size, d_model=d_model, num_heads=num_heads, num_transformer_blocks=num_transformer_blocks, ff_expansion_factor=ff_expansion_factor, dropout_rate=dropout_rate).to(device)"
      ]
    },
    {
      "cell_type": "code",
      "execution_count": 18,
      "metadata": {
        "colab": {
          "base_uri": "https://localhost:8080/"
        },
        "id": "OpCE0J5gF7ef",
        "outputId": "519caa64-74cd-4c23-9a2f-31aecbeeff4f"
      },
      "outputs": [
        {
          "name": "stdout",
          "output_type": "stream",
          "text": [
            "H sc^�^ P�ant!\n",
            "INeriinse dugri<< por il più coluinéO�cun pieare Cssa sta�'ha loes miagri7\u0012 suo giu fizisc tuttaell quelgra��osobiesti dalJuoi�ui usti pun sarVT� dentroanno�ga giun��!\n",
            "cosìpar\u0016isci schi unaentro però�� rotti assaitte groH'u� dol elEdqueþghilà�osoglia>>,liernogni��tuve erLo cariù�ena hiosiena convien cenba ma soltàgratta\n",
            "Hosa��Cosìtto�ffipisse_chiacomINFERNIN comerizio féLi� du dentroanto questa man�gno pe sangueostraHgu giu\u001dscia$ piùutaen treebbe� bol per'a granLo pendi{qINFER dov spe M\u0019d suoi rle tor di>>.\n",
            " vederINF� piaese fi là�mpostratu!>>.\n",
            "Allor� colui\u0019and�'hdre ad soppa preINFERsti visoccoende senglio pena du serbaename7��ariosta>>.\n",
            "��\n",
            "o\u0019/ locoS nosppcer scocendo ani�in simon\n"
          ]
        }
      ],
      "source": [
        "with torch.no_grad():\n",
        "  print(novel_generate(model=Dante, device=device))"
      ]
    },
    {
      "cell_type": "code",
      "execution_count": 19,
      "metadata": {
        "colab": {
          "base_uri": "https://localhost:8080/",
          "height": 391
        },
        "collapsed": true,
        "id": "MVP9aPoDF8vg",
        "outputId": "2239cf0b-15e7-4c56-ce22-673ebc637e6d"
      },
      "outputs": [
        {
          "name": "stdout",
          "output_type": "stream",
          "text": [
            "Epoch 0: Train Loss = 7.0710, Test Loss = 6.9406\n",
            "Epoch 1000: Train Loss = 3.5373, Test Loss = 4.0831\n",
            "Epoch 2000: Train Loss = 2.7481, Test Loss = 4.3691\n",
            "Epoch 3000: Train Loss = 2.2906, Test Loss = 4.9151\n"
          ]
        },
        {
          "ename": "KeyboardInterrupt",
          "evalue": "",
          "output_type": "error",
          "traceback": [
            "\u001b[0;31m---------------------------------------------------------------------------\u001b[0m",
            "\u001b[0;31mKeyboardInterrupt\u001b[0m                         Traceback (most recent call last)",
            "\u001b[0;32m<ipython-input-19-ae02537b2b7a>\u001b[0m in \u001b[0;36m<cell line: 0>\u001b[0;34m()\u001b[0m\n\u001b[1;32m      4\u001b[0m \u001b[0mepochs\u001b[0m \u001b[0;34m=\u001b[0m \u001b[0;36m10\u001b[0m \u001b[0;34m*\u001b[0m \u001b[0;36m1000\u001b[0m\u001b[0;34m\u001b[0m\u001b[0;34m\u001b[0m\u001b[0m\n\u001b[1;32m      5\u001b[0m \u001b[0;34m\u001b[0m\u001b[0m\n\u001b[0;32m----> 6\u001b[0;31m \u001b[0mtrain_loss_values\u001b[0m\u001b[0;34m,\u001b[0m \u001b[0mtest_loss_values\u001b[0m \u001b[0;34m=\u001b[0m \u001b[0mtrain_model\u001b[0m\u001b[0;34m(\u001b[0m\u001b[0mmodel\u001b[0m\u001b[0;34m=\u001b[0m\u001b[0mDante\u001b[0m\u001b[0;34m,\u001b[0m \u001b[0mtrain_data\u001b[0m\u001b[0;34m=\u001b[0m\u001b[0mtrain_data\u001b[0m\u001b[0;34m,\u001b[0m \u001b[0mtest_data\u001b[0m\u001b[0;34m=\u001b[0m\u001b[0mtest_data\u001b[0m\u001b[0;34m,\u001b[0m \u001b[0moptimizer\u001b[0m\u001b[0;34m=\u001b[0m\u001b[0moptimizer\u001b[0m\u001b[0;34m,\u001b[0m \u001b[0mepochs\u001b[0m\u001b[0;34m=\u001b[0m\u001b[0mepochs\u001b[0m\u001b[0;34m,\u001b[0m \u001b[0mbatch_size\u001b[0m\u001b[0;34m=\u001b[0m\u001b[0mbatch_size\u001b[0m\u001b[0;34m,\u001b[0m \u001b[0mblock_size\u001b[0m\u001b[0;34m=\u001b[0m\u001b[0mblock_size\u001b[0m\u001b[0;34m,\u001b[0m \u001b[0meval_every\u001b[0m\u001b[0;34m=\u001b[0m\u001b[0;36m1000\u001b[0m\u001b[0;34m,\u001b[0m \u001b[0mdevice\u001b[0m\u001b[0;34m=\u001b[0m\u001b[0mdevice\u001b[0m\u001b[0;34m)\u001b[0m\u001b[0;34m\u001b[0m\u001b[0;34m\u001b[0m\u001b[0m\n\u001b[0m",
            "\u001b[0;32m/content/danteGPT/utils/train_wrapper.py\u001b[0m in \u001b[0;36mtrain_model\u001b[0;34m(model, train_data, test_data, optimizer, epochs, batch_size, block_size, device, eval_every)\u001b[0m\n\u001b[1;32m     13\u001b[0m     \u001b[0mloss\u001b[0m \u001b[0;34m=\u001b[0m \u001b[0mmodel\u001b[0m\u001b[0;34m.\u001b[0m\u001b[0mcompute_loss\u001b[0m\u001b[0;34m(\u001b[0m\u001b[0mxb\u001b[0m\u001b[0;34m,\u001b[0m \u001b[0myb\u001b[0m\u001b[0;34m)\u001b[0m\u001b[0;34m\u001b[0m\u001b[0;34m\u001b[0m\u001b[0m\n\u001b[1;32m     14\u001b[0m     \u001b[0moptimizer\u001b[0m\u001b[0;34m.\u001b[0m\u001b[0mzero_grad\u001b[0m\u001b[0;34m(\u001b[0m\u001b[0mset_to_none\u001b[0m\u001b[0;34m=\u001b[0m\u001b[0;32mTrue\u001b[0m\u001b[0;34m)\u001b[0m\u001b[0;34m\u001b[0m\u001b[0;34m\u001b[0m\u001b[0m\n\u001b[0;32m---> 15\u001b[0;31m     \u001b[0mloss\u001b[0m\u001b[0;34m.\u001b[0m\u001b[0mbackward\u001b[0m\u001b[0;34m(\u001b[0m\u001b[0;34m)\u001b[0m\u001b[0;34m\u001b[0m\u001b[0;34m\u001b[0m\u001b[0m\n\u001b[0m\u001b[1;32m     16\u001b[0m     \u001b[0moptimizer\u001b[0m\u001b[0;34m.\u001b[0m\u001b[0mstep\u001b[0m\u001b[0;34m(\u001b[0m\u001b[0;34m)\u001b[0m\u001b[0;34m\u001b[0m\u001b[0;34m\u001b[0m\u001b[0m\n\u001b[1;32m     17\u001b[0m     \u001b[0mtrain_loss_values\u001b[0m\u001b[0;34m.\u001b[0m\u001b[0mappend\u001b[0m\u001b[0;34m(\u001b[0m\u001b[0mloss\u001b[0m\u001b[0;34m.\u001b[0m\u001b[0mitem\u001b[0m\u001b[0;34m(\u001b[0m\u001b[0;34m)\u001b[0m\u001b[0;34m)\u001b[0m\u001b[0;34m\u001b[0m\u001b[0;34m\u001b[0m\u001b[0m\n",
            "\u001b[0;32m/usr/local/lib/python3.11/dist-packages/torch/_tensor.py\u001b[0m in \u001b[0;36mbackward\u001b[0;34m(self, gradient, retain_graph, create_graph, inputs)\u001b[0m\n\u001b[1;32m    624\u001b[0m                 \u001b[0minputs\u001b[0m\u001b[0;34m=\u001b[0m\u001b[0minputs\u001b[0m\u001b[0;34m,\u001b[0m\u001b[0;34m\u001b[0m\u001b[0;34m\u001b[0m\u001b[0m\n\u001b[1;32m    625\u001b[0m             )\n\u001b[0;32m--> 626\u001b[0;31m         torch.autograd.backward(\n\u001b[0m\u001b[1;32m    627\u001b[0m             \u001b[0mself\u001b[0m\u001b[0;34m,\u001b[0m \u001b[0mgradient\u001b[0m\u001b[0;34m,\u001b[0m \u001b[0mretain_graph\u001b[0m\u001b[0;34m,\u001b[0m \u001b[0mcreate_graph\u001b[0m\u001b[0;34m,\u001b[0m \u001b[0minputs\u001b[0m\u001b[0;34m=\u001b[0m\u001b[0minputs\u001b[0m\u001b[0;34m\u001b[0m\u001b[0;34m\u001b[0m\u001b[0m\n\u001b[1;32m    628\u001b[0m         )\n",
            "\u001b[0;32m/usr/local/lib/python3.11/dist-packages/torch/autograd/__init__.py\u001b[0m in \u001b[0;36mbackward\u001b[0;34m(tensors, grad_tensors, retain_graph, create_graph, grad_variables, inputs)\u001b[0m\n\u001b[1;32m    345\u001b[0m     \u001b[0;31m# some Python versions print out the first line of a multi-line function\u001b[0m\u001b[0;34m\u001b[0m\u001b[0;34m\u001b[0m\u001b[0m\n\u001b[1;32m    346\u001b[0m     \u001b[0;31m# calls in the traceback and some print out the last line\u001b[0m\u001b[0;34m\u001b[0m\u001b[0;34m\u001b[0m\u001b[0m\n\u001b[0;32m--> 347\u001b[0;31m     _engine_run_backward(\n\u001b[0m\u001b[1;32m    348\u001b[0m         \u001b[0mtensors\u001b[0m\u001b[0;34m,\u001b[0m\u001b[0;34m\u001b[0m\u001b[0;34m\u001b[0m\u001b[0m\n\u001b[1;32m    349\u001b[0m         \u001b[0mgrad_tensors_\u001b[0m\u001b[0;34m,\u001b[0m\u001b[0;34m\u001b[0m\u001b[0;34m\u001b[0m\u001b[0m\n",
            "\u001b[0;32m/usr/local/lib/python3.11/dist-packages/torch/autograd/graph.py\u001b[0m in \u001b[0;36m_engine_run_backward\u001b[0;34m(t_outputs, *args, **kwargs)\u001b[0m\n\u001b[1;32m    821\u001b[0m         \u001b[0munregister_hooks\u001b[0m \u001b[0;34m=\u001b[0m \u001b[0m_register_logging_hooks_on_whole_graph\u001b[0m\u001b[0;34m(\u001b[0m\u001b[0mt_outputs\u001b[0m\u001b[0;34m)\u001b[0m\u001b[0;34m\u001b[0m\u001b[0;34m\u001b[0m\u001b[0m\n\u001b[1;32m    822\u001b[0m     \u001b[0;32mtry\u001b[0m\u001b[0;34m:\u001b[0m\u001b[0;34m\u001b[0m\u001b[0;34m\u001b[0m\u001b[0m\n\u001b[0;32m--> 823\u001b[0;31m         return Variable._execution_engine.run_backward(  # Calls into the C++ engine to run the backward pass\n\u001b[0m\u001b[1;32m    824\u001b[0m             \u001b[0mt_outputs\u001b[0m\u001b[0;34m,\u001b[0m \u001b[0;34m*\u001b[0m\u001b[0margs\u001b[0m\u001b[0;34m,\u001b[0m \u001b[0;34m**\u001b[0m\u001b[0mkwargs\u001b[0m\u001b[0;34m\u001b[0m\u001b[0;34m\u001b[0m\u001b[0m\n\u001b[1;32m    825\u001b[0m         )  # Calls into the C++ engine to run the backward pass\n",
            "\u001b[0;31mKeyboardInterrupt\u001b[0m: "
          ]
        }
      ],
      "source": [
        "from utils import train_model, plot_loss_functions\n",
        "\n",
        "optimizer = torch.optim.AdamW(Dante.parameters(), lr=1e-3)\n",
        "epochs = 10 * 1000\n",
        "\n",
        "train_loss_values, test_loss_values = train_model(model=Dante, train_data=train_data, test_data=test_data, optimizer=optimizer, epochs=epochs, batch_size=batch_size, block_size=block_size, eval_every=1000, device=device)"
      ]
    },
    {
      "cell_type": "code",
      "execution_count": null,
      "metadata": {
        "colab": {
          "base_uri": "https://localhost:8080/",
          "height": 715
        },
        "collapsed": true,
        "id": "JIefYokfF-Lk",
        "outputId": "defde3e5-8cb8-44f6-bdd4-ccffe171decc"
      },
      "outputs": [],
      "source": [
        "plot_loss_functions(train_loss_values, test_loss_values, epochs=epochs)"
      ]
    },
    {
      "cell_type": "code",
      "execution_count": 21,
      "metadata": {
        "colab": {
          "base_uri": "https://localhost:8080/"
        },
        "id": "TZIbPTkJF_ZB",
        "outputId": "f7cf8767-1ea4-452a-e472-97dac612dd7e"
      },
      "outputs": [
        {
          "name": "stdout",
          "output_type": "stream",
          "text": [
            "oregnatesero cura;\n",
            "onde le tene socche ridurò.\n",
            "\n",
            "PARADISORIO CANTO 13\n",
            "Lo ramir, che l'altre li occhi 'ncondi,\n",
            "bia benede i gambedute\n",
            "che sì dura tutte le punte,\n",
            "ata femmia contezza notte,\n",
            "ch'anima de la gran peccata ad essa\n",
            "che tanto fatturra altro forca la borne\n",
            "le radigranche suolla menando v'integna.\n",
            "Ben sono al benedetto e tosta come nacque;\n",
            "e le belle fieatiche\n",
            "cantavan legni belle stelle simira;\n",
            "ne liquani aquella colore e 'l Nanto;\n",
            "né ha pungeggiando, e feci\n",
            "che li occhi avea di lui e di gradire:\n",
            "ne lo 'ntevolta contarmiche.\n",
            "Sangue, con in vera vil giusta fuvanda e 'n verbo\n",
            "che s'etterne esserebbe contra\n",
            "effo Arbrt\n"
          ]
        }
      ],
      "source": [
        "with torch.no_grad():\n",
        "  print(novel_generate(model=Dante, size=500, device=device))"
      ]
    },
    {
      "cell_type": "code",
      "execution_count": null,
      "metadata": {
        "id": "WcZ8DPKjIORv"
      },
      "outputs": [],
      "source": []
    }
  ],
  "metadata": {
    "accelerator": "GPU",
    "colab": {
      "gpuType": "T4",
      "provenance": []
    },
    "kernelspec": {
      "display_name": "dante",
      "language": "python",
      "name": "python3"
    },
    "language_info": {
      "name": "python",
      "version": "3.10.16"
    }
  },
  "nbformat": 4,
  "nbformat_minor": 0
}
