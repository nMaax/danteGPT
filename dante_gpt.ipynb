{
  "nbformat": 4,
  "nbformat_minor": 0,
  "metadata": {
    "colab": {
      "provenance": [],
      "gpuType": "T4",
      "authorship_tag": "ABX9TyPCNV07hhci/rCvBoaDGSIj",
      "include_colab_link": true
    },
    "kernelspec": {
      "name": "python3",
      "display_name": "Python 3"
    },
    "language_info": {
      "name": "python"
    },
    "accelerator": "GPU"
  },
  "cells": [
    {
      "cell_type": "markdown",
      "metadata": {
        "id": "view-in-github",
        "colab_type": "text"
      },
      "source": [
        "<a href=\"https://colab.research.google.com/github/nMaax/danteGPT/blob/main/dante_gpt.ipynb\" target=\"_parent\"><img src=\"https://colab.research.google.com/assets/colab-badge.svg\" alt=\"Open In Colab\"/></a>"
      ]
    },
    {
      "cell_type": "markdown",
      "source": [
        "## Data loading and tokenization"
      ],
      "metadata": {
        "id": "8Z5ZMZrHbvTH"
      }
    },
    {
      "cell_type": "code",
      "source": [
        "!wget https://raw.githubusercontent.com/nMaax/danteGPT/main/divina_commedia.txt"
      ],
      "metadata": {
        "colab": {
          "base_uri": "https://localhost:8080/"
        },
        "id": "wXyoc5dtwdQM",
        "outputId": "62f7b455-4660-4726-f58b-9744b3dbc37f"
      },
      "execution_count": 1,
      "outputs": [
        {
          "output_type": "stream",
          "name": "stdout",
          "text": [
            "--2025-03-19 22:10:34--  https://raw.githubusercontent.com/nMaax/danteGPT/main/divina_commedia.txt\n",
            "Resolving raw.githubusercontent.com (raw.githubusercontent.com)... 185.199.110.133, 185.199.108.133, 185.199.111.133, ...\n",
            "Connecting to raw.githubusercontent.com (raw.githubusercontent.com)|185.199.110.133|:443... connected.\n",
            "HTTP request sent, awaiting response... 200 OK\n",
            "Length: 535249 (523K) [text/plain]\n",
            "Saving to: ‘divina_commedia.txt’\n",
            "\n",
            "divina_commedia.txt 100%[===================>] 522.70K  --.-KB/s    in 0.02s   \n",
            "\n",
            "2025-03-19 22:10:34 (32.8 MB/s) - ‘divina_commedia.txt’ saved [535249/535249]\n",
            "\n"
          ]
        }
      ]
    },
    {
      "cell_type": "code",
      "source": [
        "# Read the file\n",
        "with open('divina_commedia.txt', 'r', encoding='utf-8') as f:\n",
        "  text = f.read()"
      ],
      "metadata": {
        "id": "kSRe8AC0s55I"
      },
      "execution_count": 2,
      "outputs": []
    },
    {
      "cell_type": "code",
      "source": [
        "print(text[:10000])"
      ],
      "metadata": {
        "id": "uNnBfFh9s-ML",
        "colab": {
          "base_uri": "https://localhost:8080/"
        },
        "outputId": "bf969ac7-3223-424f-80ed-39656f8565b4"
      },
      "execution_count": 3,
      "outputs": [
        {
          "output_type": "stream",
          "name": "stdout",
          "text": [
            "INFERNO CANTO 1\n",
            "Nel mezzo del cammin di nostra vita\n",
            "mi ritrovai per una selva oscura\n",
            "ché la diritta via era smarrita.\n",
            "Ahi quanto a dir qual era è cosa dura\n",
            "esta selva selvaggia e aspra e forte\n",
            "che nel pensier rinova la paura!\n",
            "Tant' è amara che poco è più morte;\n",
            "ma per trattar del ben ch'i' vi trovai,\n",
            "dirò de l'altre cose ch'i' v'ho scorte.\n",
            "Io non so ben ridir com' i' v'intrai,\n",
            "tant' era pien di sonno a quel punto\n",
            "che la verace via abbandonai.\n",
            "Ma poi ch'i' fui al piè d'un colle giunto,\n",
            "là dove terminava quella valle\n",
            "che m'avea di paura il cor compunto,\n",
            "guardai in alto, e vidi le sue spalle\n",
            "vestite già de' raggi del pianeta\n",
            "che mena dritto altrui per ogne calle.\n",
            "Allor fu la paura un poco queta\n",
            "che nel lago del cor m'era durata\n",
            "la notte ch'i' passai con tanta pieta.\n",
            "E come quei che con lena affannata\n",
            "uscito fuor del pelago a la riva\n",
            "si volge a l'acqua perigliosa e guata,\n",
            "così l'animo mio, ch'ancor fuggiva,\n",
            "si volse a retro a rimirar lo passo\n",
            "che non lasciò già mai persona viva.\n",
            "Poi ch'èi posato un poco il corpo lasso,\n",
            "ripresi via per la piaggia diserta,\n",
            "sì che 'l piè fermo sempre era 'l più basso.\n",
            "Ed ecco, quasi al cominciar de l'erta,\n",
            "una lonza leggera e presta molto,\n",
            "che di pel macolato era coverta;\n",
            "e non mi si partia dinanzi al volto,\n",
            "anzi 'mpediva tanto il mio cammino,\n",
            "ch'i' fui per ritornar più volte vòlto.\n",
            "Temp' era dal principio del mattino,\n",
            "e 'l sol montava 'n sù con quelle stelle\n",
            "ch'eran con lui quando l'amor divino\n",
            "mosse di prima quelle cose belle;\n",
            "sì ch'a bene sperar m'era cagione\n",
            "di quella fiera a la gaetta pelle\n",
            "l'ora del tempo e la dolce stagione;\n",
            "ma non sì che paura non mi desse\n",
            "la vista che m'apparve d'un leone.\n",
            "Questi parea che contra me venisse\n",
            "con la test' alta e con rabbiosa fame,\n",
            "sì che parea che l'aere ne tremesse.\n",
            "Ed una lupa, che di tutte brame\n",
            "sembiava carca ne la sua magrezza,\n",
            "e molte genti fé già viver grame,\n",
            "questa mi porse tanto di gravezza\n",
            "con la paura ch'uscia di sua vista,\n",
            "ch'io perdei la speranza de l'altezza.\n",
            "E qual è quei che volontieri acquista,\n",
            "e giugne 'l tempo che perder lo face,\n",
            "che 'n tutti suoi pensier piange e s'attrista;\n",
            "tal mi fece la bestia sanza pace,\n",
            "che, venendomi 'ncontro, a poco a poco\n",
            "mi ripigneva là dove 'l sol tace.\n",
            "Mentre ch'i' rovinava in basso loco,\n",
            "dinanzi a li occhi mi si fu offerto\n",
            "chi per lungo silenzio parea fioco.\n",
            "Quando vidi costui nel gran diserto,\n",
            "<<\n",
            "Miserere\n",
            "di me>>, gridai a lui,\n",
            "<<qual che tu sii, od ombra od omo certo!>>.\n",
            "Rispuosemi: <<Non omo, omo già fui,\n",
            "e li parenti miei furon lombardi,\n",
            "mantoani per patria ambedui.\n",
            "Nacqui\n",
            "sub Iulio\n",
            ", ancor che fosse tardi,\n",
            "e vissi a Roma sotto 'l buono Augusto\n",
            "nel tempo de li dèi falsi e bugiardi.\n",
            "Poeta fui, e cantai di quel giusto\n",
            "figliuol d'Anchise che venne di Troia,\n",
            "poi che 'l superbo Ilión fu combusto.\n",
            "Ma tu perché ritorni a tanta noia?\n",
            "perché non sali il dilettoso monte\n",
            "ch'è principio e cagion di tutta gioia?>>.\n",
            "<<Or se' tu quel Virgilio e quella fonte\n",
            "che spandi di parlar sì largo fiume?>>,\n",
            "rispuos' io lui con vergognosa fronte.\n",
            "<<O de li altri poeti onore e lume\n",
            "vagliami 'l lungo studio e 'l grande amore\n",
            "che m'ha fatto cercar lo tuo volume.\n",
            "Tu se' lo mio maestro e 'l mio autore;\n",
            "tu se' solo colui da cu' io tolsi\n",
            "lo bello stilo che m'ha fatto onore.\n",
            "Vedi la bestia per cu' io mi volsi:\n",
            "aiutami da lei, famoso saggio,\n",
            "ch'ella mi fa tremar le vene e i polsi>>.\n",
            "<<A te convien tenere altro viaggio>>,\n",
            "rispuose poi che lagrimar mi vide,\n",
            "<<se vuo' campar d'esto loco selvaggio;\n",
            "ché questa bestia, per la qual tu gride,\n",
            "non lascia altrui passar per la sua via,\n",
            "ma tanto lo 'mpedisce che l'uccide;\n",
            "e ha natura sì malvagia e ria,\n",
            "che mai non empie la bramosa voglia,\n",
            "e dopo 'l pasto ha più fame che pria.\n",
            "Molti son li animali a cui s'ammoglia,\n",
            "e più saranno ancora, infin che 'l veltro\n",
            "verrà, che la farà morir con doglia.\n",
            "Questi non ciberà terra né peltro,\n",
            "ma sapienza, amore e virtute,\n",
            "e sua nazion sarà tra feltro e feltro.\n",
            "Di quella umile Italia fia salute\n",
            "per cui morì la vergine Cammilla,\n",
            "Eurialo e Turno e Niso di ferute.\n",
            "Questi la caccerà per ogne villa,\n",
            "fin che l'avrà rimessa ne lo 'nferno,\n",
            "là onde 'nvidia prima dipartilla.\n",
            "Ond' io per lo tuo me' penso e discerno\n",
            "che tu mi segui, e io sarò tua guida,\n",
            "e trarrotti di qui per loco etterno,\n",
            "ove udirai le disperate strida,\n",
            "vedrai li antichi spiriti dolenti,\n",
            "ch'a la seconda morte ciascun grida;\n",
            "e vederai color che son contenti\n",
            "nel foco, perché speran di venire\n",
            "quando che sia a le beate genti.\n",
            "A le quai poi se tu vorrai salire,\n",
            "anima fia a ciò più di me degna:\n",
            "con lei ti lascerò nel mio partire;\n",
            "ché quello imperador che là sù regna,\n",
            "perch' i' fu' ribellante a la sua legge,\n",
            "non vuol che 'n sua città per me si vegna.\n",
            "In tutte parti impera e quivi regge;\n",
            "quivi è la sua città e l'alto seggio:\n",
            "oh felice colui cu' ivi elegge!>>.\n",
            "E io a lui: <<Poeta, io ti richeggio\n",
            "per quello Dio che tu non conoscesti,\n",
            "acciò ch'io fugga questo male e peggio,\n",
            "che tu mi meni là dov'or dicesti,\n",
            "sì ch'io veggia la porta di san Pietro\n",
            "e color cui tu fai cotanto mesti>>.\n",
            "Allor si mosse, e io li tenni dietro.\n",
            "\n",
            "INFERNO CANTO 2\n",
            "Lo giorno se n'andava, e l'aere bruno\n",
            "toglieva li animai che sono in terra\n",
            "da le fatiche loro; e io sol uno\n",
            "m'apparecchiava a sostener la guerra\n",
            "sì del cammino e sì de la pietate,\n",
            "che ritrarrà la mente che non erra.\n",
            "O muse, o alto ingegno, or m'aiutate;\n",
            "o mente che scrivesti ciò ch'io vidi,\n",
            "qui si parrà la tua nobilitate.\n",
            "Io cominciai: <<Poeta che mi guidi,\n",
            "guarda la mia virtù s'ell' è possente,\n",
            "prima ch'a l'alto passo tu mi fidi.\n",
            "Tu dici che di Silvio il parente,\n",
            "corruttibile ancora, ad immortale\n",
            "secolo andò, e fu sensibilmente.\n",
            "Però, se l'avversario d'ogne male\n",
            "cortese i fu, pensando l'alto effetto\n",
            "ch'uscir dovea di lui e 'l chi e 'l quale\n",
            "non pare indegno ad omo d'intelletto;\n",
            "ch'e' fu de l'alma Roma e di suo impero\n",
            "ne l'empireo ciel per padre eletto:\n",
            "la quale e 'l quale, a voler dir lo vero,\n",
            "fu stabilita per lo loco santo\n",
            "u' siede il successor del maggior Piero.\n",
            "Per quest' andata onde li dai tu vanto,\n",
            "intese cose che furon cagione\n",
            "di sua vittoria e del papale ammanto.\n",
            "Andovvi poi lo Vas d'elezione,\n",
            "per recarne conforto a quella fede\n",
            "ch'è principio a la via di salvazione.\n",
            "Ma io, perché venirvi? o chi 'l concede?\n",
            "Io non Enea, io non Paulo sono;\n",
            "me degno a ciò né io né altri 'l crede.\n",
            "Per che, se del venire io m'abbandono,\n",
            "temo che la venuta non sia folle.\n",
            "Se' savio; intendi me' ch'i' non ragiono>>.\n",
            "E qual è quei che disvuol ciò che volle\n",
            "e per novi pensier cangia proposta,\n",
            "sì che dal cominciar tutto si tolle,\n",
            "tal mi fec' io 'n quella oscura costa,\n",
            "perché, pensando, consumai la 'mpresa\n",
            "che fu nel cominciar cotanto tosta.\n",
            "<<S'i' ho ben la parola tua intesa>>,\n",
            "rispuose del magnanimo quell' ombra;\n",
            "<<l'anima tua è da viltade offesa;\n",
            "la qual molte fiate l' omo ingombra\n",
            "sì che d'onrata impresa lo rivolve,\n",
            "come falso veder bestia quand' ombra.\n",
            "Da questa tema acciò che tu ti solve,\n",
            "dirotti perch' io venni e quel ch'io 'ntesi\n",
            "nel primo punto che di te mi dolve.\n",
            "Io era tra color che son sospesi,\n",
            "e donna mi chiamò beata e bella,\n",
            "tal che di comandare io la richiesi.\n",
            "Lucevan li occhi suoi più che la stella;\n",
            "e cominciommi a dir soave e piana,\n",
            "con angelica voce, in sua favella:\n",
            "\"O anima cortese mantoana,\n",
            "di cui la fama ancor nel mondo dura,\n",
            "e durerà quanto 'l mondo lontana,\n",
            "l'amico mio, e non de la ventura,\n",
            "ne la diserta piaggia è impedito\n",
            "sì nel cammin, che volt' è per paura;\n",
            "e temo che non sia già sì smarrito,\n",
            "ch'io mi sia tardi al soccorso levata,\n",
            "per quel ch'i' ho di lui nel cielo udito.\n",
            "Or movi, e con la tua parola ornata\n",
            "e con ciò c'ha mestieri al suo campare,\n",
            "l'aiuta, sì ch'i' ne sia consolata.\n",
            "I' son Beatrice che ti faccio andare;\n",
            "vegno del loco ove tornar disio;\n",
            "amor mi mosse, che mi fa parlare.\n",
            "Quando sarò dinanzi al segnor mio,\n",
            "di te mi loderò sovente a lui\".\n",
            "Tacette allora, e poi comincia' io:\n",
            "\"O donna di virtù, sola per cui\n",
            "l'umana spezie eccede ogne contento\n",
            "di quel ciel c'ha minor li cerchi sui,\n",
            "tanto m'aggrada il tuo comandamento,\n",
            "che l'ubidir, se già fosse, m'è tardi;\n",
            "più non t'è uo' ch'aprirmi il tuo talento.\n",
            "Ma dimmi la cagion che non ti guardi\n",
            "de lo scender qua giuso in questo centro\n",
            "de l'ampio loco ove tornar tu ardi\".\n",
            "\"Da che tu vuo' saver cotanto a dentro,\n",
            "dirotti brievemente\", mi rispuose,\n",
            "\"perch' i' non temo di venir qua entro.\n",
            "Temer si dee di sole quelle cose\n",
            "c'hanno potenza di fare altrui male;\n",
            "de l'altre no, ché non son paurose.\n",
            "I' son fatta da Dio, sua mercé, tale,\n",
            "che la vostra miseria non mi tange,\n",
            "né fiamma d'esto 'ncendio non m'assale.\n",
            "Donna è gentil nel ciel che si compiange\n",
            "di questo 'mpedimento ov' io ti mando,\n",
            "sì che duro giudicio là sù frange.\n",
            "Questa chiese Lucia in suo dimando\n",
            "e disse: – Or ha bisogno il tuo fedele\n",
            "di te, e io a te lo raccomando -.\n",
            "Lucia, nimica di ciascun crudele,\n",
            "si mosse, e venne al loco dov' i' era,\n",
            "che mi sedea con l'antica Rachele.\n",
            "Disse: – Beatrice, loda di Dio vera,\n",
            "ché non soccorri quei che t'amò tanto,\n",
            "ch'uscì per te de la volgare schiera?\n",
            "Non odi tu la pieta del suo pianto,\n",
            "non vedi tu la morte che 'l combatte\n",
            "su la fiumana ove 'l mar non ha vanto? -.\n",
            "Al mondo non fur mai persone ratte\n",
            "a far lor pro o a fuggir lor danno,\n",
            "com' io, dopo cotai parole fatte,\n",
            "venni qua giù del mio beato scanno,\n",
            "fidandomi del tuo parlare onesto,\n",
            "ch'onora te e quei ch'udito l'hanno\".\n",
            "Poscia che m'ebbe ragionato questo,\n",
            "li occhi lucenti lacrimando volse,\n",
            "per che mi fece del venir più presto.\n",
            "E venni a te così com' ella volse;\n",
            "d'inanzi a quella fiera ti levai\n",
            "che del bel monte il corto andar ti tolse.\n",
            "Dunque: che è? perché, perché restai,\n",
            "perché tanta viltà nel core allette,\n",
            "perché ardire e franchezza non hai,\n",
            "poscia che tai tre donne benedette\n",
            "curan di te ne la corte del cielo,\n",
            "e 'l mio parlar tanto ben ti promette?>>.\n",
            "Quali fioretti dal notturno gelo\n",
            "chinati e chiusi, poi che 'l sol li 'mbianca\n",
            "si drizzan tutti aperti in loro stelo,\n",
            "tal mi fec' io di mia virtude stanca,\n",
            "e tanto buono ardire al cor mi corse,\n",
            "ch'i' cominciai come persona franca:\n",
            "<<Oh pietosa colei che mi soccorse!\n",
            "e te cortese ch'ubidisti tosto\n",
            "a le vere parole che ti porse!\n",
            "Tu m'hai co\n"
          ]
        }
      ]
    },
    {
      "cell_type": "code",
      "source": [
        "from collections import Counter\n",
        "import regex as re\n",
        "\n",
        "class BasicTokenizer():\n",
        "  def __init__(self,):\n",
        "    self.merges = None\n",
        "    self.rev_merges = None\n",
        "    self.vocab = None\n",
        "\n",
        "  def train(self, text, vocab_size, verbose=False):\n",
        "\n",
        "    num_to_merge = vocab_size - 256\n",
        "    tokens = list(map(int, text.encode('utf-8')))\n",
        "    _, self.merges, self.rev_merges = self.continuous_merge(tokens, num_to_merge)\n",
        "\n",
        "  def encode(self, text):\n",
        "    \"\"\"\n",
        "    Encodes text into merged tokens using a given merge map.\n",
        "\n",
        "    - Converts text to UTF-8 byte tokens.\n",
        "    - Iteratively applies merges, replacing bigrams with new indices.\n",
        "    \"\"\"\n",
        "    merges=self.merges\n",
        "    tokens = list(text.encode('utf-8'))  # Get byte representation\n",
        "    for bigram, new_idx in merges.items():\n",
        "        new_tokens = []\n",
        "        i = 0\n",
        "        while i < len(tokens):\n",
        "            if i < len(tokens) - 1 and (tokens[i], tokens[i+1]) == bigram:\n",
        "                new_tokens.append(new_idx)  # Merge the bigram\n",
        "                i += 2  # Skip next token (merged)\n",
        "            else:\n",
        "                new_tokens.append(tokens[i])\n",
        "                i += 1\n",
        "        tokens = new_tokens  # Update tokens after each merge pass\n",
        "    return tokens\n",
        "\n",
        "  def decode(self, tokens):\n",
        "    \"\"\"Decodes merged tokens back into a UTF-8 string.\"\"\"\n",
        "\n",
        "    vocab = {token: bytes([token]) for token in range(256)}\n",
        "    for (original_token_1, original_token_2), merged_token in self.merges.items():\n",
        "        vocab[merged_token] = vocab[original_token_1] + vocab[original_token_2]\n",
        "    self.vocab = vocab\n",
        "\n",
        "    tokens = b\"\".join(vocab[token] for token in tokens)\n",
        "    text = tokens.decode(\"utf-8\", errors=\"replace\")\n",
        "    return text\n",
        "\n",
        "  def count_bigrams(self, tokens):\n",
        "    \"\"\"Count bigrams using collections.Counter for efficiency.\"\"\"\n",
        "    return Counter(zip(tokens[:-1], tokens[1:]))\n",
        "\n",
        "  def sort_counter(self, counter, reverse=True):\n",
        "      \"\"\"Sort bigrams by frequency.\n",
        "\n",
        "      Returns a list of (count, bigram) tuples.\n",
        "      \"\"\"\n",
        "      return sorted(((count, bigram) for bigram, count in counter.items()), reverse=reverse)\n",
        "\n",
        "  def merge(self, tokens, bigram, new_idx):\n",
        "      \"\"\"\n",
        "      Merge occurrences of `bigram` in the token list.\n",
        "\n",
        "      Instead of modifying the list in place, build a new list.\n",
        "      When a bigram is found, it is replaced by new_idx, and the second token is skipped.\n",
        "      \"\"\"\n",
        "      new_tokens = []\n",
        "      i = 0\n",
        "      while i < len(tokens):\n",
        "          if i < len(tokens) - 1 and (tokens[i], tokens[i+1]) == bigram:\n",
        "              new_tokens.append(new_idx)\n",
        "              i += 2  # Skip the next token as it's merged\n",
        "          else:\n",
        "              new_tokens.append(tokens[i])\n",
        "              i += 1\n",
        "      return new_tokens\n",
        "\n",
        "  def continuous_merge(self, tokens, n_to_merge):\n",
        "      \"\"\"\n",
        "      Merge tokens continuously for n_to_merge iterations.\n",
        "\n",
        "      Operates on a copy of the tokens so that the original list is not modified.\n",
        "      Returns the merged tokens and a mapping of the merged bigrams to new indices.\n",
        "      \"\"\"\n",
        "      tokens = tokens.copy()  # Work on a copy to leave the original unchanged.\n",
        "      # Compute a base index that is outside the valid UTF-8 range.\n",
        "      base = 256\n",
        "      merges = {}\n",
        "      rev_merges = {}\n",
        "\n",
        "      for merge_iteration in range(n_to_merge):\n",
        "          counter = self.count_bigrams(tokens)\n",
        "          if not counter:\n",
        "              break\n",
        "          sorted_counter = self.sort_counter(counter, reverse=True)\n",
        "          # Get the most frequent bigram\n",
        "          bigram_to_merge = sorted_counter[0][1]\n",
        "          new_idx = base + merge_iteration\n",
        "          tokens = self.merge(tokens, bigram_to_merge, new_idx)\n",
        "          merges[bigram_to_merge] = new_idx\n",
        "          rev_merges[new_idx] = bigram_to_merge\n",
        "      return tokens, merges, rev_merges\n",
        "\n",
        "class RegexTokenizer(BasicTokenizer):\n",
        "  def __init__(self, pattern=None):\n",
        "    super().__init__()\n",
        "    # TODO: Improve specifically for Dante\n",
        "    self.pattern = r\"\"\"'(?i:[sdmt]|ll|ve|re)|[^\\r\\n\\p{L}\\p{N}]?+\\p{L}+|\\p{N}{1,3}| ?[^\\s\\p{L}\\p{N}]++[\\r\\n]*|\\s*[\\r\\n]|\\s+(?!\\S)|\\s+\"\"\" if not pattern else pattern\n",
        "\n",
        "  def train(self, text, vocab_size, verbose=False):\n",
        "    \"\"\"\n",
        "    Trains the tokenizer by performing byte-pair encoding on the tokenized text.\n",
        "    - Uses regex-based initial tokenization.\n",
        "    - Learns merges similar to BasicTokenizer.\n",
        "    \"\"\"\n",
        "    num_to_merge = vocab_size - 256\n",
        "\n",
        "    # split the text up into text chunks\n",
        "    text_chunks = re.findall(self.pattern, text)\n",
        "\n",
        "    # input text preprocessing\n",
        "    tokenized_text = [list(chunk.encode(\"utf-8\")) for chunk in text_chunks]\n",
        "    _, self.merges, self.rev_merges = self.continuous_merge(tokenized_text, num_to_merge)\n",
        "\n",
        "  def count_bigrams(self, tokenized_text):\n",
        "    return Counter(bigram for word in tokenized_text for bigram in zip(word[:-1], word[1:]))\n",
        "\n",
        "  def continuous_merge(self, tokenized_text, n_to_merge):\n",
        "      \"\"\"\n",
        "      Merge tokens continuously for n_to_merge iterations.\n",
        "\n",
        "      Operates on a copy of the tokens so that the original list is not modified.\n",
        "      Returns the merged tokens and a mapping of the merged bigrams to new indices.\n",
        "      \"\"\"\n",
        "      tokenized_text = tokenized_text.copy()  # Work on a copy to leave the original unchanged.\n",
        "\n",
        "      # Compute a base index that is outside the valid UTF-8 range.\n",
        "      base = 256\n",
        "      merges = {}\n",
        "      rev_merges = {}\n",
        "\n",
        "      for merge_iteration in range(n_to_merge):\n",
        "          counter = self.count_bigrams(tokenized_text=tokenized_text)\n",
        "          if not counter:\n",
        "              break\n",
        "          sorted_counter = self.sort_counter(counter, reverse=True)\n",
        "          # Get the most frequent bigram\n",
        "          bigram_to_merge, count = max(counter.items(), key=lambda item: item[1])\n",
        "          new_idx = base + merge_iteration\n",
        "          tokenized_text = [self.merge(tokenized_word, bigram_to_merge, new_idx) for tokenized_word in tokenized_text]\n",
        "          merges[bigram_to_merge] = new_idx\n",
        "          rev_merges[new_idx] = bigram_to_merge\n",
        "      return tokenized_text, merges, rev_merges"
      ],
      "metadata": {
        "id": "7J6jMDjC9-cx"
      },
      "execution_count": 4,
      "outputs": []
    },
    {
      "cell_type": "code",
      "source": [
        "tokenizer_training_size = len(text) // 4\n",
        "vocab_size = 500\n",
        "\n",
        "Dantokenizer = RegexTokenizer()\n",
        "Dantokenizer.train(text[:tokenizer_training_size], vocab_size=vocab_size)"
      ],
      "metadata": {
        "id": "NWvA8bLa-LU7"
      },
      "execution_count": 5,
      "outputs": []
    },
    {
      "cell_type": "code",
      "source": [
        "encode = Dantokenizer.encode\n",
        "decode = Dantokenizer.decode"
      ],
      "metadata": {
        "id": "CslBsRgs-BlX"
      },
      "execution_count": 6,
      "outputs": []
    },
    {
      "cell_type": "code",
      "source": [
        "print(decode(encode('Nel mezzo del cammin di nostra vita, mi ritrovai in una selva oscura.')))"
      ],
      "metadata": {
        "id": "I0GmeEENuyhK",
        "colab": {
          "base_uri": "https://localhost:8080/"
        },
        "outputId": "ead1e315-73fa-42b3-97eb-eece5f6b3088"
      },
      "execution_count": 7,
      "outputs": [
        {
          "output_type": "stream",
          "name": "stdout",
          "text": [
            "Nel mezzo del cammin di nostra vita, mi ritrovai in una selva oscura.\n"
          ]
        }
      ]
    },
    {
      "cell_type": "markdown",
      "source": [
        "## Baseline, Transformer-free model"
      ],
      "metadata": {
        "id": "-UiF4zFRbpH6"
      }
    },
    {
      "cell_type": "code",
      "source": [
        "import torch"
      ],
      "metadata": {
        "id": "edAktZYGw1NX"
      },
      "execution_count": 8,
      "outputs": []
    },
    {
      "cell_type": "code",
      "source": [
        "data = torch.tensor(encode(text), dtype=torch.long)"
      ],
      "metadata": {
        "id": "66LD44jpzyVB"
      },
      "execution_count": 9,
      "outputs": []
    },
    {
      "cell_type": "code",
      "source": [
        "print(data.shape, data.dtype)"
      ],
      "metadata": {
        "colab": {
          "base_uri": "https://localhost:8080/"
        },
        "id": "jgE06JSTz4Sq",
        "outputId": "7f05e3cc-0d2a-4261-980e-21d80f611a35"
      },
      "execution_count": 10,
      "outputs": [
        {
          "output_type": "stream",
          "name": "stdout",
          "text": [
            "torch.Size([259412]) torch.int64\n"
          ]
        }
      ]
    },
    {
      "cell_type": "code",
      "source": [
        "n = int(0.9*len(data))\n",
        "train_data = data[:n]\n",
        "test_data = data[n:]"
      ],
      "metadata": {
        "id": "b9jaBdnk0Eiy"
      },
      "execution_count": 11,
      "outputs": []
    },
    {
      "cell_type": "code",
      "source": [
        "block_size = 8\n",
        "x = train_data[:block_size]\n",
        "y = train_data[1:block_size+1]\n",
        "\n",
        "print(\"full tokenized sentence: \", data[:block_size+1])\n",
        "print()\n",
        "for t in range(block_size):\n",
        "  print(\"context:\", x[:t+1])\n",
        "  print(\"target: \", y[t].item())"
      ],
      "metadata": {
        "colab": {
          "base_uri": "https://localhost:8080/"
        },
        "id": "sEXMKf4V0R67",
        "outputId": "9fba9d33-ac7c-498f-ec28-316c61ea3cf3"
      },
      "execution_count": 12,
      "outputs": [
        {
          "output_type": "stream",
          "name": "stdout",
          "text": [
            "full tokenized sentence:  tensor([ 73,  78,  70,  69,  82,  78,  79, 445,  65])\n",
            "\n",
            "context: tensor([73])\n",
            "target:  78\n",
            "context: tensor([73, 78])\n",
            "target:  70\n",
            "context: tensor([73, 78, 70])\n",
            "target:  69\n",
            "context: tensor([73, 78, 70, 69])\n",
            "target:  82\n",
            "context: tensor([73, 78, 70, 69, 82])\n",
            "target:  78\n",
            "context: tensor([73, 78, 70, 69, 82, 78])\n",
            "target:  79\n",
            "context: tensor([73, 78, 70, 69, 82, 78, 79])\n",
            "target:  445\n",
            "context: tensor([ 73,  78,  70,  69,  82,  78,  79, 445])\n",
            "target:  65\n"
          ]
        }
      ]
    },
    {
      "cell_type": "code",
      "source": [
        "torch.manual_seed(42)\n",
        "\n",
        "def get_batch(split='train', batch_size=32, block_size=8):\n",
        "  data = train_data if split=='train' else test_data\n",
        "  ix = torch.randint(low=0, high=(len(data) - block_size), size=(batch_size,))\n",
        "  x = torch.stack([data[i:i+block_size] for i in ix])\n",
        "  y = torch.stack([data[i+1:i+block_size+1] for i in ix])\n",
        "  y = torch.clamp(y, 0, vocab_size - 1)\n",
        "  return x, y"
      ],
      "metadata": {
        "id": "q2W8GtBu0vOM"
      },
      "execution_count": 13,
      "outputs": []
    },
    {
      "cell_type": "code",
      "source": [
        "xb, yb = get_batch('train', batch_size=4, block_size=8)"
      ],
      "metadata": {
        "id": "0j7p9W3I1hK_"
      },
      "execution_count": 14,
      "outputs": []
    },
    {
      "cell_type": "code",
      "source": [
        "print(xb.shape, xb, sep='\\n')\n",
        "print(yb.shape, yb, sep='\\n')"
      ],
      "metadata": {
        "colab": {
          "base_uri": "https://localhost:8080/"
        },
        "id": "bGdxIBNL13Ni",
        "outputId": "fbb68c6f-906d-4454-d4d7-520e7bc0af10"
      },
      "execution_count": 15,
      "outputs": [
        {
          "output_type": "stream",
          "name": "stdout",
          "text": [
            "torch.Size([4, 8])\n",
            "tensor([[363, 328, 317, 348, 475, 266, 318, 321],\n",
            "        [266,  97, 256, 330, 384, 362, 276, 388],\n",
            "        [264, 293, 260, 297, 281, 353, 279, 261],\n",
            "        [266, 438, 392,  97, 273, 111, 418, 280]])\n",
            "torch.Size([4, 8])\n",
            "tensor([[328, 317, 348, 475, 266, 318, 321, 441],\n",
            "        [ 97, 256, 330, 384, 362, 276, 388, 277],\n",
            "        [293, 260, 297, 281, 353, 279, 261, 361],\n",
            "        [438, 392,  97, 273, 111, 418, 280, 265]])\n"
          ]
        }
      ]
    },
    {
      "cell_type": "code",
      "source": [
        "xb, yb = get_batch('train')\n",
        "for b in range(8):\n",
        "  for t in range(block_size):\n",
        "    context = xb[b, :t+1]\n",
        "    target = yb[b, t]\n",
        "    print(f\"when the context is {context} then the target is {target}\")"
      ],
      "metadata": {
        "colab": {
          "base_uri": "https://localhost:8080/"
        },
        "id": "ZMXFd0xY3GG3",
        "outputId": "3f93a0f3-93ee-4d01-8e30-3c825aaeff1d"
      },
      "execution_count": 16,
      "outputs": [
        {
          "output_type": "stream",
          "name": "stdout",
          "text": [
            "when the context is tensor([268]) then the target is 271\n",
            "when the context is tensor([268, 271]) then the target is 65\n",
            "when the context is tensor([268, 271,  65]) then the target is 392\n",
            "when the context is tensor([268, 271,  65, 392]) then the target is 97\n",
            "when the context is tensor([268, 271,  65, 392,  97]) then the target is 455\n",
            "when the context is tensor([268, 271,  65, 392,  97, 455]) then the target is 339\n",
            "when the context is tensor([268, 271,  65, 392,  97, 455, 339]) then the target is 32\n",
            "when the context is tensor([268, 271,  65, 392,  97, 455, 339,  32]) then the target is 104\n",
            "when the context is tensor([333]) then the target is 101\n",
            "when the context is tensor([333, 101]) then the target is 260\n",
            "when the context is tensor([333, 101, 260]) then the target is 101\n",
            "when the context is tensor([333, 101, 260, 101]) then the target is 425\n",
            "when the context is tensor([333, 101, 260, 101, 425]) then the target is 101\n",
            "when the context is tensor([333, 101, 260, 101, 425, 101]) then the target is 32\n",
            "when the context is tensor([333, 101, 260, 101, 425, 101,  32]) then the target is 304\n",
            "when the context is tensor([333, 101, 260, 101, 425, 101,  32, 304]) then the target is 349\n",
            "when the context is tensor([354]) then the target is 33\n",
            "when the context is tensor([354,  33]) then the target is 10\n",
            "when the context is tensor([354,  33,  10]) then the target is 83\n",
            "when the context is tensor([354,  33,  10,  83]) then the target is 39\n",
            "when the context is tensor([354,  33,  10,  83,  39]) then the target is 287\n",
            "when the context is tensor([354,  33,  10,  83,  39, 287]) then the target is 278\n",
            "when the context is tensor([354,  33,  10,  83,  39, 287, 278]) then the target is 320\n",
            "when the context is tensor([354,  33,  10,  83,  39, 287, 278, 320]) then the target is 301\n",
            "when the context is tensor([266]) then the target is 318\n",
            "when the context is tensor([266, 318]) then the target is 301\n",
            "when the context is tensor([266, 318, 301]) then the target is 110\n",
            "when the context is tensor([266, 318, 301, 110]) then the target is 257\n",
            "when the context is tensor([266, 318, 301, 110, 257]) then the target is 195\n",
            "when the context is tensor([266, 318, 301, 110, 257, 195]) then the target is 185\n",
            "when the context is tensor([266, 318, 301, 110, 257, 195, 185]) then the target is 332\n",
            "when the context is tensor([266, 318, 301, 110, 257, 195, 185, 332]) then the target is 257\n",
            "when the context is tensor([267]) then the target is 378\n",
            "when the context is tensor([267, 378]) then the target is 291\n",
            "when the context is tensor([267, 378, 291]) then the target is 103\n",
            "when the context is tensor([267, 378, 291, 103]) then the target is 292\n",
            "when the context is tensor([267, 378, 291, 103, 292]) then the target is 400\n",
            "when the context is tensor([267, 378, 291, 103, 292, 400]) then the target is 275\n",
            "when the context is tensor([267, 378, 291, 103, 292, 400, 275]) then the target is 259\n",
            "when the context is tensor([267, 378, 291, 103, 292, 400, 275, 259]) then the target is 334\n",
            "when the context is tensor([97]) then the target is 314\n",
            "when the context is tensor([ 97, 314]) then the target is 424\n",
            "when the context is tensor([ 97, 314, 424]) then the target is 324\n",
            "when the context is tensor([ 97, 314, 424, 324]) then the target is 265\n",
            "when the context is tensor([ 97, 314, 424, 324, 265]) then the target is 257\n",
            "when the context is tensor([ 97, 314, 424, 324, 265, 257]) then the target is 346\n",
            "when the context is tensor([ 97, 314, 424, 324, 265, 257, 346]) then the target is 487\n",
            "when the context is tensor([ 97, 314, 424, 324, 265, 257, 346, 487]) then the target is 302\n",
            "when the context is tensor([116]) then the target is 402\n",
            "when the context is tensor([116, 402]) then the target is 115\n",
            "when the context is tensor([116, 402, 115]) then the target is 256\n",
            "when the context is tensor([116, 402, 115, 256]) then the target is 108\n",
            "when the context is tensor([116, 402, 115, 256, 108]) then the target is 277\n",
            "when the context is tensor([116, 402, 115, 256, 108, 277]) then the target is 105\n",
            "when the context is tensor([116, 402, 115, 256, 108, 277, 105]) then the target is 283\n",
            "when the context is tensor([116, 402, 115, 256, 108, 277, 105, 283]) then the target is 281\n",
            "when the context is tensor([118]) then the target is 277\n",
            "when the context is tensor([118, 277]) then the target is 282\n",
            "when the context is tensor([118, 277, 282]) then the target is 279\n",
            "when the context is tensor([118, 277, 282, 279]) then the target is 97\n",
            "when the context is tensor([118, 277, 282, 279,  97]) then the target is 268\n",
            "when the context is tensor([118, 277, 282, 279,  97, 268]) then the target is 271\n",
            "when the context is tensor([118, 277, 282, 279,  97, 268, 271]) then the target is 77\n",
            "when the context is tensor([118, 277, 282, 279,  97, 268, 271,  77]) then the target is 280\n"
          ]
        }
      ]
    },
    {
      "cell_type": "code",
      "source": [
        "import torch\n",
        "import torch.nn as nn\n",
        "from torch.nn import functional as F\n",
        "torch.manual_seed(42)\n",
        "\n",
        "class naiveLM(nn.Module):\n",
        "  def __init__(self, vocab_size, latent_space_dim):\n",
        "    super().__init__()\n",
        "    self.embedding_table = nn.Embedding(vocab_size, latent_space_dim)\n",
        "    self.net = nn.Sequential(\n",
        "        nn.Linear(in_features=latent_space_dim, out_features=latent_space_dim, bias=True),\n",
        "        nn.ReLU(),\n",
        "        nn.Linear(in_features=latent_space_dim, out_features=latent_space_dim, bias=True),\n",
        "        nn.ReLU(),\n",
        "        nn.Linear(in_features=latent_space_dim, out_features=latent_space_dim, bias=True),\n",
        "        nn.ReLU(),\n",
        "        nn.Linear(in_features=latent_space_dim, out_features=vocab_size, bias=True)\n",
        "    )\n",
        "\n",
        "  def forward(self, idx):\n",
        "    emb = self.embedding_table(idx)\n",
        "    logits = self.net(emb)\n",
        "    return logits\n",
        "\n",
        "  def compute_loss(self, idx, targets):\n",
        "    logits = self.forward(idx)\n",
        "    B, T, C = logits.shape\n",
        "    logits = logits.view(B*T, C)\n",
        "    targets = targets.view(B*T)\n",
        "    loss = F.cross_entropy(logits, targets)\n",
        "    return loss\n",
        "\n",
        "  def generate(self, idx, max_new_tokens=32):\n",
        "    for _ in range(max_new_tokens):\n",
        "      logits = self.forward(idx) # B, T, C\n",
        "      logits = logits[:, -1, :] # B, C\n",
        "      probs = F.softmax(logits, dim=-1) # B, C\n",
        "      idx_next = torch.multinomial(probs, num_samples=1) # (B, 1)\n",
        "      idx = torch.cat((idx, idx_next), dim=1) # idx: (B, T) --> (B, T+1)\n",
        "    return idx"
      ],
      "metadata": {
        "id": "zklkoveE3pOU"
      },
      "execution_count": 17,
      "outputs": []
    },
    {
      "cell_type": "code",
      "source": [
        "model = naiveLM(vocab_size=vocab_size, latent_space_dim=32)"
      ],
      "metadata": {
        "id": "0cXG8nC65ETL"
      },
      "execution_count": 18,
      "outputs": []
    },
    {
      "cell_type": "code",
      "source": [
        "print(xb.shape, xb, sep='\\n')"
      ],
      "metadata": {
        "colab": {
          "base_uri": "https://localhost:8080/"
        },
        "id": "r4TM9dYl_L1t",
        "outputId": "cdff0078-94fe-4d6a-e052-d927cc40307c"
      },
      "execution_count": 19,
      "outputs": [
        {
          "output_type": "stream",
          "name": "stdout",
          "text": [
            "torch.Size([32, 8])\n",
            "tensor([[268, 271,  65, 392,  97, 455, 339,  32],\n",
            "        [333, 101, 260, 101, 425, 101,  32, 304],\n",
            "        [354,  33,  10,  83,  39, 287, 278, 320],\n",
            "        [266, 318, 301, 110, 257, 195, 185, 332],\n",
            "        [267, 378, 291, 103, 292, 400, 275, 259],\n",
            "        [ 97, 314, 424, 324, 265, 257, 346, 487],\n",
            "        [116, 402, 115, 256, 108, 277, 105, 283],\n",
            "        [118, 277, 282, 279,  97, 268, 271,  77],\n",
            "        [ 32, 304, 349, 271, 488, 310, 438, 395],\n",
            "        [260, 101, 425, 101, 375, 278, 315, 280],\n",
            "        [315, 335,  97, 314, 347, 490, 260, 274],\n",
            "        [302, 310, 319, 403, 281, 275, 310, 367],\n",
            "        [297, 102, 262, 345,  10, 354, 434, 264],\n",
            "        [342, 468, 260, 299, 122, 335, 105, 271],\n",
            "        [ 32,  83, 448, 327,  97,  10, 318, 338],\n",
            "        [ 99, 335, 111,  10, 109, 298, 479, 277],\n",
            "        [315, 117, 262,  32,  86, 105, 114, 468],\n",
            "        [105,  10, 100, 288, 272, 292, 299, 102],\n",
            "        [300, 116, 277, 262, 493, 455, 391, 265],\n",
            "        [325,  79, 296, 383, 332,  99, 117, 282],\n",
            "        [282, 375, 316, 356, 404, 401, 262, 444],\n",
            "        [ 76, 365, 301, 348, 301, 108, 273, 111],\n",
            "        [100, 304, 316,  99, 299, 443, 103, 368],\n",
            "        [ 10, 407, 304, 366, 280, 118, 263, 278],\n",
            "        [291, 460, 103, 276, 101, 445,  97, 109],\n",
            "        [347, 388, 314, 257, 195, 185, 386, 330],\n",
            "        [298,  99, 261, 101, 316,  99, 299, 105],\n",
            "        [323,  79, 321, 429, 108, 267, 100, 274],\n",
            "        [303, 323, 307,  78, 326, 408, 366, 280],\n",
            "        [263, 423, 101, 332, 295, 115, 295,  44],\n",
            "        [296, 402, 313, 471, 117, 303,  10, 276],\n",
            "        [291, 434, 260, 114, 300, 101, 266, 352]])\n"
          ]
        }
      ]
    },
    {
      "cell_type": "code",
      "source": [
        "logits = model.forward(xb)"
      ],
      "metadata": {
        "id": "Q5yNcWIt6w8k"
      },
      "execution_count": 20,
      "outputs": []
    },
    {
      "cell_type": "code",
      "source": [
        "print(logits.shape, logits, sep='\\n')"
      ],
      "metadata": {
        "colab": {
          "base_uri": "https://localhost:8080/"
        },
        "id": "KMGujrDb_Q42",
        "outputId": "68c2806d-a4b8-4b36-8b59-65baa338a4ec"
      },
      "execution_count": 21,
      "outputs": [
        {
          "output_type": "stream",
          "name": "stdout",
          "text": [
            "torch.Size([32, 8, 500])\n",
            "tensor([[[-0.0973,  0.0823,  0.1829,  ..., -0.0455,  0.0730, -0.0730],\n",
            "         [-0.1163,  0.0633,  0.1870,  ..., -0.0152,  0.0755, -0.0414],\n",
            "         [-0.1158,  0.0478,  0.1551,  ..., -0.0521,  0.0852, -0.0418],\n",
            "         ...,\n",
            "         [-0.1725,  0.0467,  0.1694,  ...,  0.0134,  0.1059, -0.0204],\n",
            "         [-0.1276,  0.0478,  0.1942,  ...,  0.0238,  0.1155, -0.0239],\n",
            "         [-0.1275,  0.0693,  0.1902,  ..., -0.0157,  0.0786, -0.0361]],\n",
            "\n",
            "        [[-0.1081,  0.0403,  0.1779,  ..., -0.0557,  0.0740, -0.0516],\n",
            "         [-0.1439,  0.0547,  0.1704,  ..., -0.0262,  0.0872, -0.0306],\n",
            "         [-0.0964,  0.0279,  0.1664,  ..., -0.0334,  0.1520, -0.0457],\n",
            "         ...,\n",
            "         [-0.1439,  0.0547,  0.1704,  ..., -0.0262,  0.0872, -0.0306],\n",
            "         [-0.1275,  0.0693,  0.1902,  ..., -0.0157,  0.0786, -0.0361],\n",
            "         [-0.0988,  0.0613,  0.1581,  ..., -0.0440,  0.1167, -0.0735]],\n",
            "\n",
            "        [[-0.1300,  0.0598,  0.1721,  ...,  0.0079,  0.0832, -0.0092],\n",
            "         [-0.1516,  0.0378,  0.1880,  ...,  0.0039,  0.0990, -0.0104],\n",
            "         [-0.1299,  0.0502,  0.1895,  ..., -0.0617,  0.0650, -0.0344],\n",
            "         ...,\n",
            "         [-0.1437, -0.0158,  0.1165,  ...,  0.0004,  0.1454,  0.0199],\n",
            "         [-0.1729,  0.0289,  0.1745,  ..., -0.0052,  0.1066, -0.0512],\n",
            "         [-0.1968,  0.0060,  0.1849,  ...,  0.0310,  0.1681, -0.0065]],\n",
            "\n",
            "        ...,\n",
            "\n",
            "        [[-0.1281,  0.0391,  0.2102,  ..., -0.0318,  0.1127, -0.0357],\n",
            "         [-0.1310,  0.0561,  0.1870,  ..., -0.0516,  0.0667, -0.0376],\n",
            "         [-0.1439,  0.0547,  0.1704,  ..., -0.0262,  0.0872, -0.0306],\n",
            "         ...,\n",
            "         [-0.1434, -0.0016,  0.1385,  ..., -0.0597,  0.0929, -0.0765],\n",
            "         [-0.1195,  0.0312,  0.1778,  ..., -0.0681,  0.0815, -0.0473],\n",
            "         [-0.1198,  0.0489,  0.1760,  ..., -0.0327,  0.0915, -0.0531]],\n",
            "\n",
            "        [[-0.1556, -0.0127,  0.1596,  ...,  0.0158,  0.1245, -0.0089],\n",
            "         [-0.2044,  0.0347,  0.1828,  ...,  0.0186,  0.0972,  0.0226],\n",
            "         [-0.0926,  0.0630,  0.1833,  ..., -0.0299,  0.1209, -0.0599],\n",
            "         ...,\n",
            "         [-0.0759,  0.0645,  0.1522,  ..., -0.0442,  0.1016, -0.0586],\n",
            "         [-0.1299,  0.0502,  0.1895,  ..., -0.0617,  0.0650, -0.0344],\n",
            "         [-0.1032,  0.0512,  0.1732,  ..., -0.0727,  0.0781, -0.0561]],\n",
            "\n",
            "        [[-0.1442,  0.0669,  0.1798,  ...,  0.0094,  0.0982, -0.0391],\n",
            "         [-0.2024,  0.0150,  0.1554,  ...,  0.0716,  0.1357, -0.0068],\n",
            "         [-0.0964,  0.0279,  0.1664,  ..., -0.0334,  0.1520, -0.0457],\n",
            "         ...,\n",
            "         [-0.1439,  0.0547,  0.1704,  ..., -0.0262,  0.0872, -0.0306],\n",
            "         [-0.1648,  0.0329,  0.1666,  ...,  0.0078,  0.0976, -0.0306],\n",
            "         [-0.1372,  0.0148,  0.1628,  ..., -0.0103,  0.1205, -0.0333]]],\n",
            "       grad_fn=<ViewBackward0>)\n"
          ]
        }
      ]
    },
    {
      "cell_type": "code",
      "source": [
        "print(xb.shape, xb, sep='\\n')"
      ],
      "metadata": {
        "colab": {
          "base_uri": "https://localhost:8080/"
        },
        "id": "seoEdu_tApjh",
        "outputId": "7c921a87-3ca7-4688-8027-1a5ef67d37e6"
      },
      "execution_count": 22,
      "outputs": [
        {
          "output_type": "stream",
          "name": "stdout",
          "text": [
            "torch.Size([32, 8])\n",
            "tensor([[268, 271,  65, 392,  97, 455, 339,  32],\n",
            "        [333, 101, 260, 101, 425, 101,  32, 304],\n",
            "        [354,  33,  10,  83,  39, 287, 278, 320],\n",
            "        [266, 318, 301, 110, 257, 195, 185, 332],\n",
            "        [267, 378, 291, 103, 292, 400, 275, 259],\n",
            "        [ 97, 314, 424, 324, 265, 257, 346, 487],\n",
            "        [116, 402, 115, 256, 108, 277, 105, 283],\n",
            "        [118, 277, 282, 279,  97, 268, 271,  77],\n",
            "        [ 32, 304, 349, 271, 488, 310, 438, 395],\n",
            "        [260, 101, 425, 101, 375, 278, 315, 280],\n",
            "        [315, 335,  97, 314, 347, 490, 260, 274],\n",
            "        [302, 310, 319, 403, 281, 275, 310, 367],\n",
            "        [297, 102, 262, 345,  10, 354, 434, 264],\n",
            "        [342, 468, 260, 299, 122, 335, 105, 271],\n",
            "        [ 32,  83, 448, 327,  97,  10, 318, 338],\n",
            "        [ 99, 335, 111,  10, 109, 298, 479, 277],\n",
            "        [315, 117, 262,  32,  86, 105, 114, 468],\n",
            "        [105,  10, 100, 288, 272, 292, 299, 102],\n",
            "        [300, 116, 277, 262, 493, 455, 391, 265],\n",
            "        [325,  79, 296, 383, 332,  99, 117, 282],\n",
            "        [282, 375, 316, 356, 404, 401, 262, 444],\n",
            "        [ 76, 365, 301, 348, 301, 108, 273, 111],\n",
            "        [100, 304, 316,  99, 299, 443, 103, 368],\n",
            "        [ 10, 407, 304, 366, 280, 118, 263, 278],\n",
            "        [291, 460, 103, 276, 101, 445,  97, 109],\n",
            "        [347, 388, 314, 257, 195, 185, 386, 330],\n",
            "        [298,  99, 261, 101, 316,  99, 299, 105],\n",
            "        [323,  79, 321, 429, 108, 267, 100, 274],\n",
            "        [303, 323, 307,  78, 326, 408, 366, 280],\n",
            "        [263, 423, 101, 332, 295, 115, 295,  44],\n",
            "        [296, 402, 313, 471, 117, 303,  10, 276],\n",
            "        [291, 434, 260, 114, 300, 101, 266, 352]])\n"
          ]
        }
      ]
    },
    {
      "cell_type": "code",
      "source": [
        "print(yb.shape, yb, sep='\\n')"
      ],
      "metadata": {
        "colab": {
          "base_uri": "https://localhost:8080/"
        },
        "id": "05Yzqu1cAlbp",
        "outputId": "7b9c2e7a-b9f6-4824-b322-0ac3a84e2db7"
      },
      "execution_count": 23,
      "outputs": [
        {
          "output_type": "stream",
          "name": "stdout",
          "text": [
            "torch.Size([32, 8])\n",
            "tensor([[271,  65, 392,  97, 455, 339,  32, 104],\n",
            "        [101, 260, 101, 425, 101,  32, 304, 349],\n",
            "        [ 33,  10,  83,  39, 287, 278, 320, 301],\n",
            "        [318, 301, 110, 257, 195, 185, 332, 257],\n",
            "        [378, 291, 103, 292, 400, 275, 259, 334],\n",
            "        [314, 424, 324, 265, 257, 346, 487, 302],\n",
            "        [402, 115, 256, 108, 277, 105, 283, 281],\n",
            "        [277, 282, 279,  97, 268, 271,  77, 280],\n",
            "        [304, 349, 271, 488, 310, 438, 395, 265],\n",
            "        [101, 425, 101, 375, 278, 315, 280, 313],\n",
            "        [335,  97, 314, 347, 490, 260, 274, 283],\n",
            "        [310, 319, 403, 281, 275, 310, 367, 270],\n",
            "        [102, 262, 345,  10, 354, 434, 264, 473],\n",
            "        [468, 260, 299, 122, 335, 105, 271,  80],\n",
            "        [ 83, 448, 327,  97,  10, 318, 338, 396],\n",
            "        [335, 111,  10, 109, 298, 479, 277, 295],\n",
            "        [117, 262,  32,  86, 105, 114, 468, 108],\n",
            "        [ 10, 100, 288, 272, 292, 299, 102, 111],\n",
            "        [116, 277, 262, 493, 455, 391, 265, 341],\n",
            "        [ 79, 296, 383, 332,  99, 117, 282, 308],\n",
            "        [375, 316, 356, 404, 401, 262, 444,  32],\n",
            "        [365, 301, 348, 301, 108, 273, 111, 377],\n",
            "        [304, 316,  99, 299, 443, 103, 368, 117],\n",
            "        [407, 304, 366, 280, 118, 263, 278, 373],\n",
            "        [460, 103, 276, 101, 445,  97, 109, 369],\n",
            "        [388, 314, 257, 195, 185, 386, 330, 286],\n",
            "        [ 99, 261, 101, 316,  99, 299, 105,  10],\n",
            "        [ 79, 321, 429, 108, 267, 100, 274, 278],\n",
            "        [323, 307,  78, 326, 408, 366, 280, 109],\n",
            "        [423, 101, 332, 295, 115, 295,  44, 275],\n",
            "        [402, 313, 471, 117, 303,  10, 276, 286],\n",
            "        [434, 260, 114, 300, 101, 266, 352, 258]])\n"
          ]
        }
      ]
    },
    {
      "cell_type": "code",
      "source": [
        "loss = model.compute_loss(xb, yb)"
      ],
      "metadata": {
        "id": "Vb5Ydm9PAhb9"
      },
      "execution_count": 24,
      "outputs": []
    },
    {
      "cell_type": "code",
      "source": [
        "print(loss)"
      ],
      "metadata": {
        "colab": {
          "base_uri": "https://localhost:8080/"
        },
        "id": "R4tKMWlx9OYi",
        "outputId": "976a75e8-989e-41f3-867d-bbecc99cebf3"
      },
      "execution_count": 25,
      "outputs": [
        {
          "output_type": "stream",
          "name": "stdout",
          "text": [
            "tensor(6.2181, grad_fn=<NllLossBackward0>)\n"
          ]
        }
      ]
    },
    {
      "cell_type": "code",
      "source": [
        "print(xb)"
      ],
      "metadata": {
        "colab": {
          "base_uri": "https://localhost:8080/"
        },
        "id": "G2UsaQWXCLwo",
        "outputId": "6afc3ec9-94df-459e-81fa-a6114d506428"
      },
      "execution_count": 26,
      "outputs": [
        {
          "output_type": "stream",
          "name": "stdout",
          "text": [
            "tensor([[268, 271,  65, 392,  97, 455, 339,  32],\n",
            "        [333, 101, 260, 101, 425, 101,  32, 304],\n",
            "        [354,  33,  10,  83,  39, 287, 278, 320],\n",
            "        [266, 318, 301, 110, 257, 195, 185, 332],\n",
            "        [267, 378, 291, 103, 292, 400, 275, 259],\n",
            "        [ 97, 314, 424, 324, 265, 257, 346, 487],\n",
            "        [116, 402, 115, 256, 108, 277, 105, 283],\n",
            "        [118, 277, 282, 279,  97, 268, 271,  77],\n",
            "        [ 32, 304, 349, 271, 488, 310, 438, 395],\n",
            "        [260, 101, 425, 101, 375, 278, 315, 280],\n",
            "        [315, 335,  97, 314, 347, 490, 260, 274],\n",
            "        [302, 310, 319, 403, 281, 275, 310, 367],\n",
            "        [297, 102, 262, 345,  10, 354, 434, 264],\n",
            "        [342, 468, 260, 299, 122, 335, 105, 271],\n",
            "        [ 32,  83, 448, 327,  97,  10, 318, 338],\n",
            "        [ 99, 335, 111,  10, 109, 298, 479, 277],\n",
            "        [315, 117, 262,  32,  86, 105, 114, 468],\n",
            "        [105,  10, 100, 288, 272, 292, 299, 102],\n",
            "        [300, 116, 277, 262, 493, 455, 391, 265],\n",
            "        [325,  79, 296, 383, 332,  99, 117, 282],\n",
            "        [282, 375, 316, 356, 404, 401, 262, 444],\n",
            "        [ 76, 365, 301, 348, 301, 108, 273, 111],\n",
            "        [100, 304, 316,  99, 299, 443, 103, 368],\n",
            "        [ 10, 407, 304, 366, 280, 118, 263, 278],\n",
            "        [291, 460, 103, 276, 101, 445,  97, 109],\n",
            "        [347, 388, 314, 257, 195, 185, 386, 330],\n",
            "        [298,  99, 261, 101, 316,  99, 299, 105],\n",
            "        [323,  79, 321, 429, 108, 267, 100, 274],\n",
            "        [303, 323, 307,  78, 326, 408, 366, 280],\n",
            "        [263, 423, 101, 332, 295, 115, 295,  44],\n",
            "        [296, 402, 313, 471, 117, 303,  10, 276],\n",
            "        [291, 434, 260, 114, 300, 101, 266, 352]])\n"
          ]
        }
      ]
    },
    {
      "cell_type": "code",
      "source": [
        "print(decode(model.generate(idx = torch.zeros((1, 1), dtype=torch.long), max_new_tokens=500)[0].tolist()))"
      ],
      "metadata": {
        "colab": {
          "base_uri": "https://localhost:8080/"
        },
        "id": "rEe24la9_Z2w",
        "outputId": "36623a9d-abc5-4bab-c469-6dc16334f3c9"
      },
      "execution_count": 27,
      "outputs": [
        {
          "output_type": "stream",
          "name": "stdout",
          "text": [
            "\u0000trii�on�V��wsso\u0004R do\u0014�an` sì quell�\u001d>gno5verb��ar�\u0012h puM luiinle cos me\fO�\u0001��vecheN poami�LA�\u000b ci�� di6 nelda tenoÿ�{\u000eari vesa venuta\u001e simmo cdo ilK v\r\u0011�� vi>>.\n",
            "E�me <<T+~)cchima�� ne�� for� di t in�sià o perqu colce�A� e�ch\u0016tra�esto�estomeell�$$ffV�ttPzz�zesbJ��Yre disse puqu�B neliòei�ؘU� ri�_�`�enttono�ingnak,\n",
            "- loiò noFgn<< su�QuHH�/ià� voicon��bi�.\n",
            "ca cim�~� an�\bccia�nenFN�an;�ŉ\u0005eera�F cocor� v� ri�\u0010tor' tegna0 vi���� rigna3 quel disseanto^1 coeradidi tu\u0004 piùandogiei sonMa~lo� t�tr cos�ar�si�Ida.\n",
            "����>omi�}aignechiqu �va���cc�ԟ�eJQu<difenti sua� ginozz�f+ chobtr delé tra èena5estro� trachétriptesta�cottaJ2+si un\u0011 par fmoleol lor]vi fXmbvi p eccdP lui�mmodertu�&� lbi}>>.\n",
            "�\t��� fo�%S�gu gi fu�an8 eestommo c'�H؇�zzder� sK��ssi�R quder:\n",
            "�\u001f��{ è�E poché'al �ià mi� poel�&f�� son}zz alf�gota� gHI)io�\u0017� cosTare for��i�tepa r@\u0017 com\u001ctt si midiNnceenti�\u0019`�>j�neci�\u0014 delpp� sua\u0000�Hȴ\n"
          ]
        }
      ]
    },
    {
      "cell_type": "code",
      "source": [
        "optimizer = torch.optim.AdamW(model.parameters(), lr=1e-3)\n",
        "epochs = 10000\n",
        "for i in range(epochs):\n",
        "\n",
        "  xb, yb = get_batch('loss', batch_size=32, block_size=8)\n",
        "\n",
        "  loss = model.compute_loss(xb, yb)\n",
        "  if i % 1000 == 0: print(loss.item())\n",
        "  optimizer.zero_grad(set_to_none=True)\n",
        "  loss.backward()\n",
        "  optimizer.step()\n"
      ],
      "metadata": {
        "colab": {
          "base_uri": "https://localhost:8080/"
        },
        "id": "jM2xYMwmHUC6",
        "outputId": "53b33657-f261-4a8f-cc65-dbd92fb0ecac"
      },
      "execution_count": 28,
      "outputs": [
        {
          "output_type": "stream",
          "name": "stdout",
          "text": [
            "6.227052688598633\n",
            "4.297218322753906\n",
            "3.9999821186065674\n",
            "3.7478690147399902\n",
            "3.728158473968506\n",
            "3.789638042449951\n",
            "3.701531171798706\n",
            "3.5930678844451904\n",
            "3.683872699737549\n",
            "3.5202417373657227\n"
          ]
        }
      ]
    },
    {
      "cell_type": "code",
      "source": [
        "print(decode(model.generate(idx = torch.zeros((1, 1), dtype=torch.long), max_new_tokens=500)[0].tolist()))"
      ],
      "metadata": {
        "colab": {
          "base_uri": "https://localhost:8080/"
        },
        "id": "noz-MDcYS00r",
        "outputId": "6a4f9e4b-80f9-447e-d39b-dcecc65f91b2"
      },
      "execution_count": 29,
      "outputs": [
        {
          "output_type": "stream",
          "name": "stdout",
          "text": [
            "\u0000ù pun susto sompetto nuol né più a tu l'altra maggio ancor felici? restantenso,\n",
            "chio vre che calegrata,\n",
            "per questo il vidi vita divesa per forvino alquar lo sommata in un fiorvegno elti più versi a l'.\n",
            "Qanto perssisì di cosdezia mosì ditto te'è la printi, comei\n",
            "per son di mi si prismo,\n",
            "tarda lo fami a leiorse e non sua benza\n",
            "n n'abbuno Belli tu vo umpl verai fuume, compenori, che puce come fia mo posaia il mio mio, sosto è quellatte la mia?'E io luntae lo vede,\n",
            "dice a re s'\n",
            "fia d'aporle! atto e fu gul maorta sezion che 'l disca ganzza\n",
            "rivi ettentro\n",
            "di con li por gra sopolarimando\n",
            "inar di coluiglia\n",
            "PARANé la dì miiri.\n",
            "Questendra per son Be poi che la dissrressa conto diventa\n",
            "cergrespe red' na Si;iggem sega sevlegiuntleto dist'avera\n",
            "li tuttuole al pribian si genza\n",
            "gurima sé la miei.\n",
            "Iovoltocercor l' fissi duce\n",
            "a mede da quando leggea,\n",
            "ine sescon che l'altro loti;\n",
            "e la qual ventali.\n",
            "Dio cio posciò che nome, alle:\n",
            "anta,\n",
            "nate vitaggio ma tantando, che tutto genza; memanngli, l'altr'am ciò li ann sé a la visestpa\n"
          ]
        }
      ]
    },
    {
      "cell_type": "markdown",
      "source": [
        "## Transformer based (self attention) implementation"
      ],
      "metadata": {
        "id": "I2OVQCQfcsBE"
      }
    },
    {
      "cell_type": "code",
      "source": [
        "# SELF ATTENTION DEFINITION\n",
        "\n",
        "torch.manual_seed(42)\n",
        "\n",
        "B, T, C = 4, 8, 32\n",
        "x = torch.randn(B, T, C) # Embedded batches of senteces\n",
        "\n",
        "head_size = 16\n",
        "key = nn.Linear(C, head_size, bias=False)\n",
        "query = nn.Linear(C, head_size, bias=False)\n",
        "value = nn.Linear(C, head_size, bias=False)\n",
        "\n",
        "K = key(x)\n",
        "Q = query(x)\n",
        "V = value(x)\n",
        "\n",
        "# \"sa\" = \"self attention\"\n",
        "log_sa = Q @ K.transpose(-1, -2)\n",
        "slog_sa = log_sa * head_size**-0.5 # \"s\" = \"scaled\"\n",
        "\n",
        "tril = torch.tril(torch.ones(T,T))\n",
        "autoregressive_slog_sa = slog_sa.masked_fill(tril == 0, float('-inf'))\n",
        "self_attention = F.softmax(autoregressive_slog_sa, dim=-1)\n",
        "\n",
        "out = self_attention @ V"
      ],
      "metadata": {
        "id": "_Y6VXj4lT9pV"
      },
      "execution_count": 30,
      "outputs": []
    },
    {
      "cell_type": "code",
      "source": [
        "self_attention[0]"
      ],
      "metadata": {
        "colab": {
          "base_uri": "https://localhost:8080/"
        },
        "id": "htxIsmP3Uvma",
        "outputId": "04a14280-c392-455a-94d0-703e0d850c6f"
      },
      "execution_count": 31,
      "outputs": [
        {
          "output_type": "execute_result",
          "data": {
            "text/plain": [
              "tensor([[1.0000, 0.0000, 0.0000, 0.0000, 0.0000, 0.0000, 0.0000, 0.0000],\n",
              "        [0.4106, 0.5894, 0.0000, 0.0000, 0.0000, 0.0000, 0.0000, 0.0000],\n",
              "        [0.3657, 0.2283, 0.4061, 0.0000, 0.0000, 0.0000, 0.0000, 0.0000],\n",
              "        [0.2168, 0.2759, 0.2204, 0.2870, 0.0000, 0.0000, 0.0000, 0.0000],\n",
              "        [0.2553, 0.1697, 0.1548, 0.2341, 0.1861, 0.0000, 0.0000, 0.0000],\n",
              "        [0.1318, 0.2060, 0.1405, 0.1917, 0.1949, 0.1351, 0.0000, 0.0000],\n",
              "        [0.2137, 0.0978, 0.2374, 0.1025, 0.1418, 0.0838, 0.1230, 0.0000],\n",
              "        [0.0852, 0.1047, 0.0824, 0.1376, 0.1015, 0.1900, 0.1780, 0.1206]],\n",
              "       grad_fn=<SelectBackward0>)"
            ]
          },
          "metadata": {},
          "execution_count": 31
        }
      ]
    },
    {
      "cell_type": "code",
      "source": [
        "out.shape"
      ],
      "metadata": {
        "colab": {
          "base_uri": "https://localhost:8080/"
        },
        "id": "vApTOUEEWZyP",
        "outputId": "58223cda-6943-46a0-ab1b-34174006b069"
      },
      "execution_count": 32,
      "outputs": [
        {
          "output_type": "execute_result",
          "data": {
            "text/plain": [
              "torch.Size([4, 8, 16])"
            ]
          },
          "metadata": {},
          "execution_count": 32
        }
      ]
    },
    {
      "cell_type": "code",
      "source": [
        "class Head(nn.Module):\n",
        "  def __init__(self, feat_in, head_size):\n",
        "    super().__init__()\n",
        "    self.feat_in = feat_in\n",
        "    self.head_size = head_size\n",
        "    self.key = nn.Linear(feat_in, head_size, bias=False)\n",
        "    self.query = nn.Linear(feat_in, head_size, bias=False)\n",
        "    self.value = nn.Linear(feat_in, head_size, bias=False)\n",
        "    self.register_buffer('tril', torch.tril(torch.ones(block_size, block_size)))\n",
        "\n",
        "  def forward(self, X):\n",
        "\n",
        "    B, T, C = X.shape\n",
        "\n",
        "    K = self.key(X)\n",
        "    Q = self.query(X)\n",
        "    V = self.value(X)\n",
        "\n",
        "    sa = K @ Q.transpose(-1, -2) * self.head_size**-0.5\n",
        "    sa = sa.masked_fill(torch.tril(torch.ones(T, T, device=X.device) == 0), float('-inf'))\n",
        "    sa = F.softmax(sa, dim=-1)\n",
        "\n",
        "    return sa @ V"
      ],
      "metadata": {
        "id": "fK3Ku_TDXPg2"
      },
      "execution_count": 33,
      "outputs": []
    },
    {
      "cell_type": "code",
      "source": [
        "class MultiHead(nn.Module):\n",
        "  def __init__(self, num_heads, latent_space_dim):\n",
        "    super().__init__()\n",
        "    head_size = latent_space_dim // num_heads\n",
        "    self.num_heads = num_heads\n",
        "    self.heads = nn.ModuleList([\n",
        "        Head(feat_in=latent_space_dim, head_size=head_size) for _ in range(num_heads)\n",
        "        ])\n",
        "    #self.proj = nn.Linear(latent_space_dim, latent_space_dim)\n",
        "\n",
        "  def forward(self, X):\n",
        "    out = torch.cat([h(X) for h in self.heads], dim=-1)\n",
        "    #out = self.proj(out)\n",
        "    return out"
      ],
      "metadata": {
        "id": "L4hh6s1YZZaX"
      },
      "execution_count": 34,
      "outputs": []
    },
    {
      "cell_type": "code",
      "source": [
        "class FeedForward(nn.Module):\n",
        "  def __init__(self, latent_space_dim, hidden_layer_expansion_factor=4):\n",
        "    super().__init__()\n",
        "    self.latent_space_dim = latent_space_dim\n",
        "    self.hidden_layer_expansion_factor = hidden_layer_expansion_factor\n",
        "    self.net = nn.Sequential(\n",
        "            nn.Linear(latent_space_dim, hidden_layer_expansion_factor*latent_space_dim),\n",
        "            nn.ReLU(),\n",
        "            nn.Linear(hidden_layer_expansion_factor*latent_space_dim, latent_space_dim),\n",
        "        )\n",
        "\n",
        "  def forward(self, X):\n",
        "    return self.net(X)"
      ],
      "metadata": {
        "id": "ESQJ43wUaBVx"
      },
      "execution_count": 35,
      "outputs": []
    },
    {
      "cell_type": "code",
      "source": [
        "class Block(nn.Module):\n",
        "  def __init__(self, latent_space_dim, num_heads):\n",
        "    super().__init__()\n",
        "    self.self_attention = MultiHead(num_heads=num_heads, latent_space_dim=latent_space_dim)\n",
        "    self.ff = FeedForward(latent_space_dim=latent_space_dim)\n",
        "    self.ln1 = nn.LayerNorm(latent_space_dim)\n",
        "    self.ln2 = nn.LayerNorm(latent_space_dim)\n",
        "\n",
        "  def forward(self, X):\n",
        "    X = X + self.self_attention(self.ln1(X))\n",
        "    X = X + self.ff(self.ln2(X))\n",
        "    return X"
      ],
      "metadata": {
        "id": "lD4odrdGb8s6"
      },
      "execution_count": 36,
      "outputs": []
    },
    {
      "cell_type": "code",
      "source": [
        "class DanteLM(nn.Module):\n",
        "  def __init__(self, vocab_size, context_window_size, latent_space_dim, num_heads, n_blocks):\n",
        "    super().__init__()\n",
        "\n",
        "    self.vocab_size = vocab_size\n",
        "    self.context_window_size = context_window_size\n",
        "    self.latent_space_dim = latent_space_dim\n",
        "    self.num_heads = num_heads\n",
        "    self.n_blocks = n_blocks\n",
        "\n",
        "    self.tok_embedding_table = nn.Embedding(vocab_size, latent_space_dim)\n",
        "    self.pos_embedding_table = nn.Embedding(context_window_size, latent_space_dim)\n",
        "    self.blocks = nn.Sequential(\n",
        "        *[Block(latent_space_dim, num_heads) for _ in range(n_blocks)]\n",
        "    )\n",
        "    self.ln_f = nn.LayerNorm(latent_space_dim)\n",
        "    self.lm_head = nn.Linear(latent_space_dim, vocab_size)\n",
        "\n",
        "  def forward(self, idx):\n",
        "    B, T = idx.shape\n",
        "\n",
        "    tok_emb = self.tok_embedding_table(idx) # (B, T, C)\n",
        "    pos_emb = self.pos_embedding_table(torch.arange(T, device=idx.device)) # (T,C)\n",
        "    emb = tok_emb + pos_emb # (B, T, C)\n",
        "    x = self.blocks(emb)\n",
        "    x = self.ln_f(x) # (B,T,C)\n",
        "    logits = self.lm_head(x) # (B,T,vocab_size)\n",
        "    return logits\n",
        "\n",
        "  def compute_loss(self, idx, targets):\n",
        "    logits = self.forward(idx)\n",
        "    B, T, C = logits.shape\n",
        "    logits = logits.view(B*T, C)\n",
        "    targets = targets.view(B*T)\n",
        "    loss = F.cross_entropy(logits, targets)\n",
        "    return loss\n",
        "\n",
        "  def generate(self, idx, max_new_tokens=32):\n",
        "    for _ in range(max_new_tokens):\n",
        "      logits = self.forward(idx[:, -self.context_window_size:]) # B, T, C\n",
        "      logits = logits[:, -1, :] # B, C\n",
        "      probs = F.softmax(logits, dim=-1) # B, C\n",
        "      idx_next = torch.multinomial(probs, num_samples=1) # (B, 1)\n",
        "      idx = torch.cat((idx, idx_next), dim=1) # idx: (B, T) --> (B, T+1)\n",
        "    return idx"
      ],
      "metadata": {
        "id": "S8Fkbok8WqgM"
      },
      "execution_count": 37,
      "outputs": []
    },
    {
      "cell_type": "code",
      "source": [
        "Dante = DanteLM(vocab_size=vocab_size, context_window_size=8, latent_space_dim=32, num_heads=4, n_blocks=4)"
      ],
      "metadata": {
        "id": "i7Lx3l6Ge1Um"
      },
      "execution_count": 38,
      "outputs": []
    },
    {
      "cell_type": "code",
      "source": [
        "# Check for GPU availability and move model and data\n",
        "if torch.cuda.is_available():\n",
        "    device = torch.device(\"cuda\")\n",
        "    print(\"GPU is available. Training on:\", device)\n",
        "else:\n",
        "    device = torch.device(\"cpu\")\n",
        "    print(\"GPU not available. Training on CPU.\")\n",
        "\n",
        "model = Dante.to(device)  # Move your model to the device"
      ],
      "metadata": {
        "colab": {
          "base_uri": "https://localhost:8080/"
        },
        "id": "cTUbKifFsxbh",
        "outputId": "627962e2-0119-43a1-8e9e-43c685f78c09"
      },
      "execution_count": 39,
      "outputs": [
        {
          "output_type": "stream",
          "name": "stdout",
          "text": [
            "GPU is available. Training on: cuda\n"
          ]
        }
      ]
    },
    {
      "cell_type": "code",
      "source": [
        "print(decode(Dante.generate(idx = torch.zeros((1, 1), dtype=torch.long, device=device), max_new_tokens=32)[0].tolist()))"
      ],
      "metadata": {
        "colab": {
          "base_uri": "https://localhost:8080/"
        },
        "id": "BPnRGs5hgDdX",
        "outputId": "92ad45dc-4a4b-431e-e047-018751a06879"
      },
      "execution_count": 40,
      "outputs": [
        {
          "output_type": "stream",
          "name": "stdout",
          "text": [
            "\u0000 neldame�diell�Y g�R il sp\u0010 v sua�� m piùB\u0007 cos da� con ri noB�b�\n"
          ]
        }
      ]
    },
    {
      "cell_type": "code",
      "source": [
        "optimizer = torch.optim.AdamW(Dante.parameters(), lr=1e-3)\n",
        "epochs = 10*1000\n",
        "loss_values = []\n",
        "for i in range(epochs):\n",
        "\n",
        "  xb, yb = get_batch('loss', batch_size=32, block_size=Dante.context_window_size)\n",
        "  # Move xb and yb to the device and reassign them\n",
        "  xb = xb.to(device)\n",
        "  yb = yb.to(device)\n",
        "\n",
        "  loss = Dante.compute_loss(xb, yb)\n",
        "  loss_values.append(loss.item())\n",
        "  if i % 1000 == 0: print(loss.item())\n",
        "  optimizer.zero_grad(set_to_none=True)\n",
        "  loss.backward()\n",
        "  optimizer.step()"
      ],
      "metadata": {
        "colab": {
          "base_uri": "https://localhost:8080/"
        },
        "id": "xVn3m2ThmMjM",
        "outputId": "8fe2c756-15ac-4e7d-adef-7f458a53f6cc"
      },
      "execution_count": 41,
      "outputs": [
        {
          "output_type": "stream",
          "name": "stdout",
          "text": [
            "6.345563888549805\n",
            "0.6520513892173767\n",
            "0.6586102247238159\n",
            "0.5571309924125671\n",
            "0.519849419593811\n",
            "0.5383638143539429\n",
            "0.4488455653190613\n",
            "0.44754868745803833\n",
            "0.4418419301509857\n",
            "0.46427565813064575\n"
          ]
        }
      ]
    },
    {
      "cell_type": "code",
      "source": [
        "import matplotlib.pyplot as plt\n",
        "\n",
        "# Plot the loss function\n",
        "plt.plot(loss_values)\n",
        "plt.xlabel('Epoch')\n",
        "plt.ylabel('Loss')\n",
        "plt.title('Training Loss')\n",
        "plt.show()"
      ],
      "metadata": {
        "id": "bWdO8VkxGLho",
        "colab": {
          "base_uri": "https://localhost:8080/",
          "height": 472
        },
        "outputId": "dbb2fb2a-8b8c-4b8c-8c4a-eeab194e9b06"
      },
      "execution_count": 42,
      "outputs": [
        {
          "output_type": "display_data",
          "data": {
            "text/plain": [
              "<Figure size 640x480 with 1 Axes>"
            ],
            "image/png": "[encoded data removed]"
          },
          "metadata": {}
        }
      ]
    },
    {
      "cell_type": "code",
      "source": [
        "print(decode(Dante.generate(idx = torch.zeros((1, 1), dtype=torch.long, device=device), max_new_tokens=500)[0].tolist()))"
      ],
      "metadata": {
        "id": "OHCdaIS4mTPs",
        "colab": {
          "base_uri": "https://localhost:8080/"
        },
        "outputId": "9ac72d0e-f678-4972-c5d7-89814a1a4a64"
      },
      "execution_count": 43,
      "outputs": [
        {
          "output_type": "stream",
          "name": "stdout",
          "text": [
            "\u0000 a a a a a a a abarse,\n",
            "tor che si sAenna,\n",
            "evi, non mienat' altilca face,, e quiaro tracostra ondamente insser tuttendo,, lal foco gonda.\n",
            "Da sé di tese a onamesse danto soggiuoli.\n",
            "Di spi costrmitro fiha\n",
            "settrò quinse songrinorase,\n",
            " medel noia voce.\n",
            "Se poi\n",
            "inver don si' io\n",
            "del vo pospioro al parco tre, che 'l;onmer coggio cera,\n",
            "e incostra d'ima\n",
            "Oetellori li occhi da percererse e inti dicia col la mia suo dice la ' fadi\n",
            "iena il se la monte ten colreza ilsoltadaggì ch'atri cerfozia,\n",
            "se si de la quel loverda munia.\n",
            "E se mae acrimigo\n",
            "l'io eraio mogno\n",
            "el me cerciviio elli seco al ciel meccomposto,\n",
            "tu vede più gontal unde e, sì che cirolsisse detto aronda,\n",
            "geta il mora terta\n",
            "de la mia donda\n",
            "la gente noa parose che onde\n",
            "pale il cicon grazia ma protta questo re ditennepe\n",
            "gel sol mimo la nato val cosa quonmor're, onidice ha sia dunaliglia il dalise da regodere.\n",
            "Questo, siro\n",
            "tro Dente, Dio re luianno!e che seco pregerà nel breoragha, e querti de la ve fuo die\n",
            "mivo astico, che mio fia ilzi mai da l'A\n"
          ]
        }
      ]
    },
    {
      "cell_type": "code",
      "source": [],
      "metadata": {
        "id": "yd9rt930wEBm"
      },
      "execution_count": 43,
      "outputs": []
    }
  ]
}